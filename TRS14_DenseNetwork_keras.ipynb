{
  "nbformat": 4,
  "nbformat_minor": 0,
  "metadata": {
    "colab": {
      "provenance": [],
      "gpuType": "T4",
      "authorship_tag": "ABX9TyNo6EV5VTSpvMXVmgXRh7qy",
      "include_colab_link": true
    },
    "kernelspec": {
      "name": "python3",
      "display_name": "Python 3"
    },
    "language_info": {
      "name": "python"
    },
    "accelerator": "GPU"
  },
  "cells": [
    {
      "cell_type": "markdown",
      "metadata": {
        "id": "view-in-github",
        "colab_type": "text"
      },
      "source": [
        "<a href=\"https://colab.research.google.com/github/Dr-Carlos-Villasenor/TRSeminar/blob/main/TRS14_DenseNetwork_keras.ipynb\" target=\"_parent\"><img src=\"https://colab.research.google.com/assets/colab-badge.svg\" alt=\"Open In Colab\"/></a>"
      ]
    },
    {
      "cell_type": "markdown",
      "source": [
        "# Machine Learning seminar\n",
        "## Dr. Carlos Villaseñor\n",
        "## Dense Neural network in Keras/tensorflow"
      ],
      "metadata": {
        "id": "OA2bDa4ZR5qJ"
      }
    },
    {
      "cell_type": "markdown",
      "source": [
        "# Import modules and clean data"
      ],
      "metadata": {
        "id": "UnY5SkfMcRVW"
      }
    },
    {
      "cell_type": "markdown",
      "source": [
        "Step 1. Import modules"
      ],
      "metadata": {
        "id": "pXflGAH6SC_C"
      }
    },
    {
      "cell_type": "code",
      "source": [
        "# Paquetería básica\n",
        "import numpy as np\n",
        "import pandas as pd\n",
        "import matplotlib.pyplot as plt\n",
        "\n",
        "# Importamos Tensorflow y Keras\n",
        "import tensorflow as tf\n",
        "from tensorflow import keras\n",
        "\n",
        "# Usamos funcionalidades básicas de Sklearn\n",
        "from sklearn.model_selection import train_test_split\n",
        "from sklearn.preprocessing import StandardScaler"
      ],
      "metadata": {
        "id": "ckWvgWOJRp_-"
      },
      "execution_count": 1,
      "outputs": []
    },
    {
      "cell_type": "markdown",
      "source": [
        "Step 2. Load dataset: 'auto-mpg.csv' and read it with *Pandas*"
      ],
      "metadata": {
        "id": "EbjVjdXsbz7w"
      }
    },
    {
      "cell_type": "code",
      "source": [
        "!wget 'https://github.com/Dr-Carlos-Villasenor/Clase_Aprendizaje_Profundo/raw/main/Datasets/auto-mpg.csv'"
      ],
      "metadata": {
        "id": "LExjehcb7iKs"
      },
      "execution_count": null,
      "outputs": []
    },
    {
      "cell_type": "code",
      "source": [
        "dataset = pd.read_csv('auto-mpg.csv')\n",
        "dataset.head()"
      ],
      "metadata": {
        "id": "7zFo1FFHbr2H"
      },
      "execution_count": null,
      "outputs": []
    },
    {
      "cell_type": "markdown",
      "source": [
        "Step 3. Explore and clean the dataset"
      ],
      "metadata": {
        "id": "_xXyQ5gx8sLH"
      }
    },
    {
      "cell_type": "code",
      "source": [
        "dataset.info()"
      ],
      "metadata": {
        "id": "Jt7ZIwgQ8t_x"
      },
      "execution_count": null,
      "outputs": []
    },
    {
      "cell_type": "code",
      "source": [
        "np.array(dataset.horsepower)"
      ],
      "metadata": {
        "id": "FeHVHM7r89WK"
      },
      "execution_count": null,
      "outputs": []
    },
    {
      "cell_type": "code",
      "source": [
        "dataset['horsepower'].replace('?', np.nan, inplace=True)\n",
        "np.array(dataset.horsepower)"
      ],
      "metadata": {
        "id": "jbzHoysX9lHj"
      },
      "execution_count": null,
      "outputs": []
    },
    {
      "cell_type": "code",
      "source": [
        "dataset = dataset.dropna()"
      ],
      "metadata": {
        "id": "rlHNf3jP881p"
      },
      "execution_count": 7,
      "outputs": []
    },
    {
      "cell_type": "markdown",
      "source": [
        "Step 4. Make sure there is not missing data"
      ],
      "metadata": {
        "id": "Sl08EJPhcDY7"
      }
    },
    {
      "cell_type": "code",
      "source": [
        "dataset.isna().sum()"
      ],
      "metadata": {
        "id": "IBJOZ4TpcJxh"
      },
      "execution_count": null,
      "outputs": []
    },
    {
      "cell_type": "markdown",
      "source": [
        "Step 5. Codify the origin feature using one-hot encoding"
      ],
      "metadata": {
        "id": "yBTGc24LcWUg"
      }
    },
    {
      "cell_type": "code",
      "source": [
        "origin = dataset.pop('origin')\n",
        "dataset['USA'] = (origin == 1) * 1.0\n",
        "dataset['Europe'] = (origin == 2) * 1.0\n",
        "dataset['Japan'] = (origin == 3) * 1.0\n",
        "dataset.tail()"
      ],
      "metadata": {
        "id": "mai3WIvjceos"
      },
      "execution_count": null,
      "outputs": []
    },
    {
      "cell_type": "markdown",
      "source": [
        "Step 6. Choose the input and output features, scale inputs"
      ],
      "metadata": {
        "id": "iTgPuiGRcj68"
      }
    },
    {
      "cell_type": "code",
      "source": [
        "x = np.asanyarray(dataset.drop(columns=['mpg', 'car name']))\n",
        "y = np.asanyarray(dataset[['mpg']])\n",
        "x = StandardScaler().fit_transform(x)\n",
        "print(x.shape)\n",
        "print(y.shape)"
      ],
      "metadata": {
        "id": "VrIZydVsctDi"
      },
      "execution_count": null,
      "outputs": []
    },
    {
      "cell_type": "markdown",
      "source": [
        "# Train Neural net"
      ],
      "metadata": {
        "id": "5oZ28bclch1h"
      }
    },
    {
      "cell_type": "markdown",
      "source": [
        "Step 7. Split dataset"
      ],
      "metadata": {
        "id": "XDS6Y3kzcvey"
      }
    },
    {
      "cell_type": "code",
      "source": [
        "xtrain, xtest, ytrain, ytest = train_test_split(x, y, test_size=0.2)"
      ],
      "metadata": {
        "id": "qIzfIZA5c0Dw"
      },
      "execution_count": 11,
      "outputs": []
    },
    {
      "cell_type": "markdown",
      "source": [
        "Step 8. Create a Dense Neural network"
      ],
      "metadata": {
        "id": "UNsxPLYeeFYn"
      }
    },
    {
      "cell_type": "code",
      "source": [
        "def build_model():\n",
        "\n",
        "  model = keras.Sequential()\n",
        "  model.add(keras.layers.Dense(128, activation='relu', input_shape=[x.shape[1]]))\n",
        "  model.add(keras.layers.Dropout(0.2))\n",
        "  model.add(keras.layers.Dense(32, activation='tanh'))\n",
        "  model.add(keras.layers.Dense(1, activation='linear'))\n",
        "\n",
        "  model.compile(loss='mean_squared_error',\n",
        "                optimizer=keras.optimizers.Adam(),\n",
        "                metrics=[keras.metrics.MAE, keras.metrics.R2Score()])\n",
        "  return  model"
      ],
      "metadata": {
        "id": "lyqOvKe6c-hF"
      },
      "execution_count": 24,
      "outputs": []
    },
    {
      "cell_type": "markdown",
      "source": [
        "Step 9. Invoke function and check the model summary"
      ],
      "metadata": {
        "id": "cf22A2lgePwW"
      }
    },
    {
      "cell_type": "code",
      "source": [
        "model = build_model()\n",
        "model.summary()"
      ],
      "metadata": {
        "id": "6GjGhqSodG2-"
      },
      "execution_count": null,
      "outputs": []
    },
    {
      "cell_type": "markdown",
      "source": [
        "Step 10. Train the neural net"
      ],
      "metadata": {
        "id": "wP2b0dINdLrp"
      }
    },
    {
      "cell_type": "code",
      "source": [
        "history = model.fit(xtrain, ytrain,\n",
        "                    batch_size=300, epochs=1300,\n",
        "                    validation_data=(xtest, ytest), verbose=1)"
      ],
      "metadata": {
        "id": "mc64yAzwdQTz"
      },
      "execution_count": null,
      "outputs": []
    },
    {
      "cell_type": "markdown",
      "source": [
        "Step 11. Draw the learining curves in order to diagnosticate the network performance"
      ],
      "metadata": {
        "id": "LqX0YjwueCBw"
      }
    },
    {
      "cell_type": "code",
      "source": [
        "def plot_history(history):\n",
        "  hist = pd.DataFrame(history.history)\n",
        "  hist['epoch'] = history.epoch\n",
        "  plt.figure(figsize=(12,6))\n",
        "  plt.subplot(121)\n",
        "  plt.title('Loss')\n",
        "  plt.xlabel('Epoch')\n",
        "  plt.ylabel('Loss')\n",
        "  plt.plot(hist['epoch'], hist['loss'],\n",
        "           label='Train')\n",
        "  plt.plot(hist['epoch'], hist['val_loss'],\n",
        "           label = 'Val')\n",
        "  plt.yscale('log')\n",
        "  plt.legend()\n",
        "\n",
        "  plt.subplot(122)\n",
        "  plt.title('R2 Score')\n",
        "  plt.xlabel('Epoch')\n",
        "  plt.ylabel('r2score')\n",
        "  plt.plot(hist['epoch'], hist['r2_score'],\n",
        "           label='Train')\n",
        "  plt.plot(hist['epoch'], hist['val_r2_score'],\n",
        "           label = 'Val')\n",
        "  plt.ylim([-0.5,1])\n",
        "  plt.legend()\n",
        "\n",
        "plot_history(history)"
      ],
      "metadata": {
        "id": "qEPR2AkFeBNz"
      },
      "execution_count": null,
      "outputs": []
    },
    {
      "cell_type": "markdown",
      "source": [
        "# Save model"
      ],
      "metadata": {
        "id": "sxTzTN34cm91"
      }
    },
    {
      "cell_type": "markdown",
      "source": [
        "Step 12. Save the model"
      ],
      "metadata": {
        "id": "ts8F-5fsfIvb"
      }
    },
    {
      "cell_type": "code",
      "source": [
        "model.save('model.keras')"
      ],
      "metadata": {
        "id": "h5NF2FrbfLIf"
      },
      "execution_count": 41,
      "outputs": []
    },
    {
      "cell_type": "markdown",
      "source": [
        "Step 13. Upload model"
      ],
      "metadata": {
        "id": "dpp3SLPFfj-P"
      }
    },
    {
      "cell_type": "code",
      "source": [
        "model2 = keras.models.load_model('model.keras')"
      ],
      "metadata": {
        "id": "9TkGNuYffhN0"
      },
      "execution_count": 42,
      "outputs": []
    }
  ]
}