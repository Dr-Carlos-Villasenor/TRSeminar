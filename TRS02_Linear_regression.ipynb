{
  "cells": [
    {
      "cell_type": "markdown",
      "metadata": {
        "id": "view-in-github",
        "colab_type": "text"
      },
      "source": [
        "<a href=\"https://colab.research.google.com/github/Dr-Carlos-Villasenor/TRSeminar/blob/main/TRS02_Linear_regression.ipynb\" target=\"_parent\"><img src=\"https://colab.research.google.com/assets/colab-badge.svg\" alt=\"Open In Colab\"/></a>"
      ]
    },
    {
      "cell_type": "markdown",
      "metadata": {
        "id": "G3hLH_xA-3Xv"
      },
      "source": [
        "\n",
        "#Machine Learning Seminar\n",
        "##Dr. Carlos Vilaseñor\n",
        "##Linear regression with scikit-learn\n",
        "\n"
      ]
    },
    {
      "cell_type": "code",
      "execution_count": 1,
      "metadata": {
        "id": "dNaEmHKp-3X5"
      },
      "outputs": [],
      "source": [
        "import pandas as pd\n",
        "import numpy as np\n",
        "import matplotlib.pyplot as plt\n",
        "from sklearn import linear_model"
      ]
    },
    {
      "cell_type": "markdown",
      "metadata": {
        "id": "M0Ph2x6n-3X-"
      },
      "source": [
        "Read data with Pandas"
      ]
    },
    {
      "cell_type": "code",
      "execution_count": null,
      "metadata": {
        "id": "jqSisApU-3YA"
      },
      "outputs": [],
      "source": [
        "!wget 'https://raw.githubusercontent.com/Dr-Carlos-Villasenor/TRSeminar/main/Datasets/countries.csv'\n",
        "data = pd.read_csv('countries.csv')\n",
        "print(data.head())"
      ]
    },
    {
      "cell_type": "markdown",
      "metadata": {
        "id": "b45tvxP--3YC"
      },
      "source": [
        "Filter data of Mexico"
      ]
    },
    {
      "cell_type": "code",
      "execution_count": null,
      "metadata": {
        "id": "5WxpRZ-0-3YD"
      },
      "outputs": [],
      "source": [
        "data_mex = data[data.country == 'Mexico']\n",
        "print(data_mex)\n",
        "data_mex.plot.scatter(x='year',y='lifeExp')"
      ]
    },
    {
      "cell_type": "markdown",
      "metadata": {
        "id": "NI6b9Mmc-3YE"
      },
      "source": [
        "For this example we use 'year' as the independent variable and 'lifeExp' as the dependent variable.\n"
      ]
    },
    {
      "cell_type": "code",
      "execution_count": 4,
      "metadata": {
        "id": "i2zCzsUq-3YG"
      },
      "outputs": [],
      "source": [
        "x = np.asarray(data_mex[['year']])\n",
        "y = np.asarray(data_mex[['lifeExp']])"
      ]
    },
    {
      "cell_type": "markdown",
      "source": [
        "Create and train model"
      ],
      "metadata": {
        "id": "IkVuzN5Wgm-n"
      }
    },
    {
      "cell_type": "code",
      "execution_count": null,
      "metadata": {
        "id": "92Y9lirQ-3YI"
      },
      "outputs": [],
      "source": [
        "model = linear_model.LinearRegression()\n",
        "model.fit(x,y)\n",
        "y_pred = model.predict(x)\n",
        "plt.scatter(x,y)\n",
        "plt.plot(x,y_pred,'--r')"
      ]
    },
    {
      "cell_type": "markdown",
      "metadata": {
        "id": "u5_k5nkk-3YK"
      },
      "source": [
        "Make some predictions"
      ]
    },
    {
      "cell_type": "code",
      "execution_count": 11,
      "metadata": {
        "id": "5vma2QGU-3YM",
        "colab": {
          "base_uri": "https://localhost:8080/"
        },
        "outputId": "6547d059-0b64-43b9-a453-2c45af665b52"
      },
      "outputs": [
        {
          "output_type": "execute_result",
          "data": {
            "text/plain": [
              "array([[85.47988928]])"
            ]
          },
          "metadata": {},
          "execution_count": 11
        }
      ],
      "source": [
        "model.predict([[2024]])"
      ]
    },
    {
      "cell_type": "markdown",
      "metadata": {
        "id": "9zoyKZ11-3YN"
      },
      "source": [
        "### Regression metrics"
      ]
    },
    {
      "cell_type": "code",
      "execution_count": null,
      "metadata": {
        "id": "nRDv2Yez-3YN"
      },
      "outputs": [],
      "source": [
        "# error in each prediction\n",
        "y-y_pred"
      ]
    },
    {
      "cell_type": "code",
      "execution_count": null,
      "metadata": {
        "id": "esVpVHfA-3YO"
      },
      "outputs": [],
      "source": [
        "# Positive error only\n",
        "abs(y-y_pred)"
      ]
    },
    {
      "cell_type": "markdown",
      "metadata": {
        "id": "QS3pcg3r-3YP"
      },
      "source": [
        "#### MAE Mean Absolute error\n",
        "\n",
        "$$\\text{MAE}(y, \\hat{y}) = \\frac{1}{n} \\sum_{i=1}^{n} \\left| y_i - \\hat{y}_i \\right|.$$"
      ]
    },
    {
      "cell_type": "code",
      "execution_count": null,
      "metadata": {
        "id": "Jv0VXzmH-3YP"
      },
      "outputs": [],
      "source": [
        "from sklearn.metrics import mean_absolute_error\n",
        "mean_absolute_error(y,y_pred)"
      ]
    },
    {
      "cell_type": "markdown",
      "metadata": {
        "id": "91IogRX2-3YQ"
      },
      "source": [
        "### MSE Mean Squared Error\n",
        "\n",
        "$$\\text{MSE}(y, \\hat{y}) = \\frac{1}{n} \\sum_{i=1}^{n} \\left( y_i - \\hat{y}_i \\right)^2$$"
      ]
    },
    {
      "cell_type": "code",
      "execution_count": null,
      "metadata": {
        "id": "hPRRgJ_o-3YQ"
      },
      "outputs": [],
      "source": [
        "from sklearn.metrics import mean_squared_error\n",
        "mean_squared_error(y,y_pred)"
      ]
    },
    {
      "cell_type": "markdown",
      "metadata": {
        "id": "0QGbdpt4-3YS"
      },
      "source": [
        "Autodetermination score ($R^2$)\n",
        "$$R^2(y, \\hat{y}) = 1 - \\frac{\\sum_{i=1}^n(y_i - \\hat{y}_i)^2}{\\sum_{i=1}^n(y_i - \\bar{y})^2}$$\n",
        "\n",
        "donde $\\bar{y} =  \\frac{1}{n} \\sum_{i=1}^n y_i$\n"
      ]
    },
    {
      "cell_type": "code",
      "execution_count": null,
      "metadata": {
        "id": "8xWtJAOb-3YS"
      },
      "outputs": [],
      "source": [
        "from sklearn.metrics import r2_score\n",
        "r2_score(y, y_pred)"
      ]
    },
    {
      "cell_type": "markdown",
      "metadata": {
        "id": "IcOZgzHQ-3YT"
      },
      "source": [
        "EVS Explained variance score\n",
        "$$\\text{EVS}(y, \\hat{y}) = 1 - \\frac{Var\\{ y - \\hat{y}\\}}{Var\\{y\\}}$$\n",
        "\n"
      ]
    },
    {
      "cell_type": "code",
      "execution_count": null,
      "metadata": {
        "id": "MaTdrcdh-3YT"
      },
      "outputs": [],
      "source": [
        "from sklearn.metrics import explained_variance_score\n",
        "explained_variance_score(y, y_pred)"
      ]
    }
  ],
  "metadata": {
    "kernelspec": {
      "display_name": "Python 3.9.12 ('base')",
      "language": "python",
      "name": "python3"
    },
    "language_info": {
      "codemirror_mode": {
        "name": "ipython",
        "version": 3
      },
      "file_extension": ".py",
      "mimetype": "text/x-python",
      "name": "python",
      "nbconvert_exporter": "python",
      "pygments_lexer": "ipython3",
      "version": "3.9.12 (main, Apr  4 2022, 05:22:27) [MSC v.1916 64 bit (AMD64)]"
    },
    "vscode": {
      "interpreter": {
        "hash": "88279d2366fe020547cde40dd65aa0e3aa662a6ec1f3ca12d88834876c85e1a6"
      }
    },
    "colab": {
      "provenance": [],
      "include_colab_link": true
    }
  },
  "nbformat": 4,
  "nbformat_minor": 0
}