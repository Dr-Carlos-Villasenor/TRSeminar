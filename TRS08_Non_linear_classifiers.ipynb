{
  "nbformat": 4,
  "nbformat_minor": 0,
  "metadata": {
    "colab": {
      "provenance": [],
      "authorship_tag": "ABX9TyP6Yekz04cGHv5uFu3fcoQM",
      "include_colab_link": true
    },
    "kernelspec": {
      "name": "python3",
      "display_name": "Python 3"
    },
    "language_info": {
      "name": "python"
    }
  },
  "cells": [
    {
      "cell_type": "markdown",
      "metadata": {
        "id": "view-in-github",
        "colab_type": "text"
      },
      "source": [
        "<a href=\"https://colab.research.google.com/github/Dr-Carlos-Villasenor/TRSeminar/blob/main/TRS08_Non_linear_classifiers.ipynb\" target=\"_parent\"><img src=\"https://colab.research.google.com/assets/colab-badge.svg\" alt=\"Open In Colab\"/></a>"
      ]
    },
    {
      "cell_type": "markdown",
      "source": [
        "# Machine Learning Seminar\n",
        "## Dr. Carlos Vilaseñor\n",
        "## Non-linear classifiers"
      ],
      "metadata": {
        "id": "zhAKXK-_wjWP"
      }
    },
    {
      "cell_type": "markdown",
      "source": [
        "Import basic modules"
      ],
      "metadata": {
        "id": "YBQtPWRt0XhY"
      }
    },
    {
      "cell_type": "code",
      "source": [
        "# Basic modules\n",
        "import numpy as np\n",
        "import matplotlib.pyplot as plt\n",
        "from matplotlib.colors import ListedColormap\n",
        "\n",
        "# sk basic modules\n",
        "from sklearn.model_selection import train_test_split\n",
        "from sklearn.preprocessing import StandardScaler\n",
        "from sklearn.datasets import make_moons, make_circles, make_classification\n",
        "\n",
        "# Models\n",
        "from sklearn.neural_network import MLPClassifier\n",
        "from sklearn.neighbors import KNeighborsClassifier\n",
        "from sklearn.svm import SVC\n",
        "from sklearn.tree import DecisionTreeClassifier\n",
        "\n",
        "# Color for drawing\n",
        "cm = plt.cm.RdBu\n",
        "cm_bright = ListedColormap(['#FF0000', '#0000FF'])"
      ],
      "metadata": {
        "id": "xCQRIj--0Q1b"
      },
      "execution_count": 3,
      "outputs": []
    },
    {
      "cell_type": "markdown",
      "source": [
        "Create models"
      ],
      "metadata": {
        "id": "Yxjy69jp0fT7"
      }
    },
    {
      "cell_type": "code",
      "source": [
        "classifiers = {'KNN':KNeighborsClassifier(3),\n",
        "               'SVM':SVC(gamma=2, C=1),\n",
        "               'DT':DecisionTreeClassifier(max_depth=25),\n",
        "               'MLP':MLPClassifier(alpha=0.1, max_iter=1000)}"
      ],
      "metadata": {
        "id": "xh_sHCKu0VLT"
      },
      "execution_count": 4,
      "outputs": []
    },
    {
      "cell_type": "markdown",
      "source": [
        "Create syntetic data"
      ],
      "metadata": {
        "id": "JxsmumtO0hm3"
      }
    },
    {
      "cell_type": "code",
      "source": [
        "x, y = make_classification(n_features=2, n_redundant=0, n_informative=2,\n",
        "                           n_clusters_per_class=1)\n",
        "rng = np.random.RandomState(2)\n",
        "x += 1 * rng.uniform(size=x.shape)\n",
        "linearly_separable = (x, y)\n",
        "\n",
        "datasets = [make_moons(noise=0.1),\n",
        "            make_circles(noise=0.1, factor=0.5),\n",
        "            linearly_separable ]"
      ],
      "metadata": {
        "id": "4_-2nsMs0k8I"
      },
      "execution_count": 5,
      "outputs": []
    },
    {
      "cell_type": "markdown",
      "source": [
        "Experiment with different"
      ],
      "metadata": {
        "id": "WGJhgftk1Sx2"
      }
    },
    {
      "cell_type": "code",
      "source": [
        "for model_name in classifiers:\n",
        "  figure = plt.figure(figsize=(9, 3))\n",
        "  plt.suptitle(model_name)\n",
        "  i = 1\n",
        "  for ds_cnt, ds in enumerate(datasets):\n",
        "\n",
        "    x, y = ds\n",
        "    x = StandardScaler().fit_transform(x)\n",
        "    xtrain, xtest, ytrain, ytest = train_test_split(x, y)\n",
        "\n",
        "    x_min, x_max = x[:, 0].min() - .5, x[:, 0].max() + .5\n",
        "    y_min, y_max = x[:, 1].min() - .5, x[:, 1].max() + .5\n",
        "    xx, yy = np.meshgrid(np.arange(x_min, x_max, 0.02),\n",
        "                         np.arange(y_min, y_max, 0.02))\n",
        "\n",
        "    model= classifiers[model_name]\n",
        "    ax = plt.subplot(1, 3, i)\n",
        "    model.fit(xtrain, ytrain)\n",
        "    score_train = model.score(xtrain, ytrain)\n",
        "    score_test = model.score(xtest, ytest)\n",
        "\n",
        "    # Plot the decision boundary. For that, we will assign a color to each\n",
        "    # point in the mesh [x_min, x_max]x[y_min, y_max].\n",
        "    if hasattr(model, \"decision_function\"):\n",
        "        zz = model.decision_function(np.c_[xx.ravel(), yy.ravel()])\n",
        "    else:\n",
        "        zz = model.predict_proba(np.c_[xx.ravel(), yy.ravel()])[:, 1]\n",
        "\n",
        "    # Put the result into a color plot\n",
        "    zz = zz.reshape(xx.shape)\n",
        "    ax.contourf(xx, yy, zz, cmap=cm, alpha=.8)\n",
        "\n",
        "    # Plot the training points\n",
        "    ax.scatter(xtrain[:, 0], xtrain[:, 1], c=ytrain, cmap=cm_bright,\n",
        "                   edgecolors='k')\n",
        "    # Plot the testing points\n",
        "    ax.scatter(xtest[:, 0], xtest[:, 1], c=ytest, cmap=cm_bright,\n",
        "                edgecolors='k', alpha=0.6)\n",
        "\n",
        "    ax.set_xlim(xx.min(), xx.max())\n",
        "    ax.set_ylim(yy.min(), yy.max())\n",
        "    ax.set_xticks(())\n",
        "    ax.set_yticks(())\n",
        "\n",
        "    ax.text(xx.max() - .3, yy.min() + .7, '%.2f' % score_train,\n",
        "            size=15, horizontalalignment='right')\n",
        "\n",
        "    ax.text(xx.max() - .3, yy.min() + .3, '%.2f' % score_test,\n",
        "            size=15, horizontalalignment='right')\n",
        "    i += 1\n",
        "\n",
        "  plt.tight_layout()\n",
        "  plt.show()"
      ],
      "metadata": {
        "id": "sYAorC8p1Id5"
      },
      "execution_count": null,
      "outputs": []
    }
  ]
}