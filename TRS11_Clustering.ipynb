{
  "nbformat": 4,
  "nbformat_minor": 0,
  "metadata": {
    "colab": {
      "provenance": [],
      "authorship_tag": "ABX9TyN+1jmOEKvEgYvUW48dQA2S",
      "include_colab_link": true
    },
    "kernelspec": {
      "name": "python3",
      "display_name": "Python 3"
    },
    "language_info": {
      "name": "python"
    }
  },
  "cells": [
    {
      "cell_type": "markdown",
      "metadata": {
        "id": "view-in-github",
        "colab_type": "text"
      },
      "source": [
        "<a href=\"https://colab.research.google.com/github/Dr-Carlos-Villasenor/TRSeminar/blob/main/TRS11_Clustering.ipynb\" target=\"_parent\"><img src=\"https://colab.research.google.com/assets/colab-badge.svg\" alt=\"Open In Colab\"/></a>"
      ]
    },
    {
      "cell_type": "markdown",
      "source": [
        "# Machine Learning Seminar\n",
        "## Dr. Carlos Vilaseñor\n",
        "## Clustering algorithms\n",
        "\n"
      ],
      "metadata": {
        "id": "tb45P6GQ87GH"
      }
    },
    {
      "cell_type": "markdown",
      "source": [
        "Import modules"
      ],
      "metadata": {
        "id": "TKpyFOpykDKo"
      }
    },
    {
      "cell_type": "code",
      "source": [
        "import numpy as np\n",
        "import matplotlib.pyplot as plt\n",
        "from sklearn import cluster, datasets, mixture, metrics\n",
        "from sklearn.preprocessing import StandardScaler"
      ],
      "metadata": {
        "id": "cKWiGAMJiKQU"
      },
      "execution_count": 2,
      "outputs": []
    },
    {
      "cell_type": "markdown",
      "source": [
        "Create syntetic data"
      ],
      "metadata": {
        "id": "hVq2HazhkJlI"
      }
    },
    {
      "cell_type": "code",
      "source": [
        "## Create data\n",
        "np.random.seed(0)\n",
        "n_samples = 1500\n",
        "X = 6*[None]\n",
        "\n",
        "# Concentric circles\n",
        "xtemp, _ = datasets.make_circles(n_samples=n_samples, factor=.5, noise=.05)\n",
        "X[0] = StandardScaler().fit_transform(xtemp)\n",
        "\n",
        "# moons\n",
        "xtemp, _ = datasets.make_moons(n_samples=n_samples, noise=.05)\n",
        "X[1] = StandardScaler().fit_transform(xtemp)\n",
        "\n",
        "# Blobs\n",
        "xtemp, _ = datasets.make_blobs(n_samples=n_samples, random_state=8)\n",
        "X[2] = StandardScaler().fit_transform(xtemp)\n",
        "\n",
        "# plane\n",
        "xtemp = np.random.rand(n_samples, 2)\n",
        "X[3] = StandardScaler().fit_transform(xtemp)\n",
        "\n",
        "# anisotropic blobs\n",
        "xtemp, _= datasets.make_blobs(n_samples=n_samples, random_state=170)\n",
        "xtemp = np.dot(xtemp, [[0.6, -0.6], [-0.4, 0.8]])\n",
        "X[4] = StandardScaler().fit_transform(xtemp)\n",
        "\n",
        "# Blobs with diff. variances\n",
        "xtemp, _ = datasets.make_blobs(n_samples=n_samples, cluster_std=[1.0, 2.5, 0.5], random_state=142)\n",
        "X[5] = StandardScaler().fit_transform(xtemp)\n",
        "\n",
        "# number of clusters\n",
        "clusters = [2,2,3,3,3,3]"
      ],
      "metadata": {
        "id": "ATKAfuy2kHT3"
      },
      "execution_count": 3,
      "outputs": []
    },
    {
      "cell_type": "markdown",
      "source": [
        "Draw data"
      ],
      "metadata": {
        "id": "I5jI0gbdkPMi"
      }
    },
    {
      "cell_type": "code",
      "source": [
        "## Dibujar\n",
        "plt.figure(figsize=(27,9))\n",
        "for i in range(6):\n",
        "    ax = plt.subplot(2, 3, i+1)\n",
        "    ax.scatter(X[i][:,0], X[i][:,1])"
      ],
      "metadata": {
        "id": "mi8kZQCpkRLA"
      },
      "execution_count": null,
      "outputs": []
    },
    {
      "cell_type": "markdown",
      "source": [
        "# Kmeans"
      ],
      "metadata": {
        "id": "z3dSvr_ykXlQ"
      }
    },
    {
      "cell_type": "code",
      "source": [
        "y = []\n",
        "for c, x in zip(clusters, X):\n",
        "    model = cluster.KMeans(n_clusters=c, n_init='auto')\n",
        "    model.fit(x)\n",
        "    y.append(model.labels_.astype(int))\n",
        "\n",
        "fig = plt.figure(figsize=(27,9))\n",
        "fig.suptitle('Kmeans', fontsize=48)\n",
        "for i in range(6):\n",
        "    ax = plt.subplot(2, 3, i+1)\n",
        "    ax.scatter(X[i][:,0], X[i][:,1], c=y[i])"
      ],
      "metadata": {
        "id": "MQ6Lj1YakaTZ"
      },
      "execution_count": null,
      "outputs": []
    },
    {
      "cell_type": "markdown",
      "source": [
        "# Spectral clustering"
      ],
      "metadata": {
        "id": "zU9RZEtTln96"
      }
    },
    {
      "cell_type": "code",
      "source": [
        "y = []\n",
        "for c, x in zip(clusters, X):\n",
        "    model = cluster.SpectralClustering(n_clusters=c,\n",
        "                                       affinity=\"nearest_neighbors\")\n",
        "    model.fit(x)\n",
        "    y.append(model.labels_.astype(int))\n",
        "\n",
        "fig = plt.figure(figsize=(27,9))\n",
        "fig.suptitle('SpectralClustering', fontsize=48)\n",
        "for i in range(6):\n",
        "    ax = plt.subplot(2, 3, i+1)\n",
        "    ax.scatter(X[i][:,0], X[i][:,1], c=y[i])"
      ],
      "metadata": {
        "id": "BH7KuDT_lq1-"
      },
      "execution_count": null,
      "outputs": []
    },
    {
      "cell_type": "markdown",
      "source": [
        "# DBSCAN"
      ],
      "metadata": {
        "id": "aDyqJ5qvmAg6"
      }
    },
    {
      "cell_type": "code",
      "source": [
        "y = []\n",
        "eps = [0.3, 0.3, 0.3, 0.3, 0.15, 0.18]\n",
        "for e, x in zip(eps, X):\n",
        "    model = cluster.DBSCAN(eps=e)\n",
        "    model.fit(x)\n",
        "    y.append(model.labels_.astype(int))\n",
        "\n",
        "fig = plt.figure(figsize=(27,9))\n",
        "fig.suptitle('DBSCAN', fontsize=48)\n",
        "for i in range(6):\n",
        "    ax = plt.subplot(2, 3, i+1)\n",
        "    ax.scatter(X[i][:,0], X[i][:,1], c=y[i])"
      ],
      "metadata": {
        "id": "zbCfLflhmCv9"
      },
      "execution_count": null,
      "outputs": []
    }
  ]
}