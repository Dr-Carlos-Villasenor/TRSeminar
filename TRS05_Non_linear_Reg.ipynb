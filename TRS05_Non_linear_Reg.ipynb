{
  "nbformat": 4,
  "nbformat_minor": 0,
  "metadata": {
    "colab": {
      "provenance": [],
      "authorship_tag": "ABX9TyMqWWGfogYBfxOvI+Pwt7n1",
      "include_colab_link": true
    },
    "kernelspec": {
      "name": "python3",
      "display_name": "Python 3"
    },
    "language_info": {
      "name": "python"
    }
  },
  "cells": [
    {
      "cell_type": "markdown",
      "metadata": {
        "id": "view-in-github",
        "colab_type": "text"
      },
      "source": [
        "<a href=\"https://colab.research.google.com/github/Dr-Carlos-Villasenor/TRSeminar/blob/main/TRS05_Non_linear_Reg.ipynb\" target=\"_parent\"><img src=\"https://colab.research.google.com/assets/colab-badge.svg\" alt=\"Open In Colab\"/></a>"
      ]
    },
    {
      "cell_type": "markdown",
      "source": [
        "# Machine Learning Seminar\n",
        "## Dr. Carlos Vilaseñor\n",
        "## Non linear Regression"
      ],
      "metadata": {
        "id": "uhSFgLciP6CB"
      }
    },
    {
      "cell_type": "markdown",
      "source": [
        "# Data"
      ],
      "metadata": {
        "id": "YQahNTcHUxnJ"
      }
    },
    {
      "cell_type": "code",
      "source": [
        "# Basic modules\n",
        "import numpy as np\n",
        "import matplotlib.pyplot as plt\n",
        "\n",
        "# Sklearn modules\n",
        "from sklearn.model_selection import train_test_split"
      ],
      "metadata": {
        "id": "JRYxjZIRxm7F"
      },
      "execution_count": 27,
      "outputs": []
    },
    {
      "cell_type": "code",
      "source": [
        "# seed\n",
        "np.random.seed(42)\n",
        "\n",
        "# random samples\n",
        "m = 300\n",
        "x = 6 * np.random.rand(m, 1) - 3\n",
        "y = 0.5 * x**2 + x + 2 + np.random.randn(m, 1)\n",
        "\n",
        "# Split data\n",
        "xtrain, xtest, ytrain, ytest = train_test_split(x,y)\n",
        "\n",
        "# draw data\n",
        "plt.plot(xtrain, ytrain, \"b.\")\n",
        "plt.plot(xtest, ytest, \"r.\")\n",
        "plt.xlabel(\"$x$\", fontsize=18)\n",
        "plt.ylabel(\"$y$\", fontsize=18)\n",
        "plt.axis([-3, 3, 0, 10])\n",
        "plt.show()"
      ],
      "metadata": {
        "id": "BJFwiYFDxnpY"
      },
      "execution_count": null,
      "outputs": []
    },
    {
      "cell_type": "code",
      "source": [
        "def draw_prediction(model, xtrain, ytrain, xtest, ytest):\n",
        "  x_new = np.linspace(-3, 3, 100).reshape(-1, 1)\n",
        "  y_pred = model.predict(x_new)\n",
        "  plt.plot(x_new, y_pred,'k-',  linewidth=3)\n",
        "  plt.plot(xtrain, ytrain, \"b.\")\n",
        "  plt.plot(xtest, ytest, \"r.\")\n",
        "  plt.xlabel(\"$x$\", fontsize=18)\n",
        "  plt.ylabel(\"$y$\", fontsize=18)\n",
        "  plt.axis([-3, 3, 0, 10])\n",
        "  plt.show()"
      ],
      "metadata": {
        "id": "fuy0tv5tVc2s"
      },
      "execution_count": 29,
      "outputs": []
    },
    {
      "cell_type": "markdown",
      "source": [
        "# K Nearest Neighbors Regressor"
      ],
      "metadata": {
        "id": "DgVOBL04U3he"
      }
    },
    {
      "cell_type": "code",
      "source": [
        "from sklearn.neighbors import KNeighborsRegressor\n",
        "model = KNeighborsRegressor(n_neighbors=20) #weights = 'uniform'\n",
        "model.fit(xtrain, ytrain)\n",
        "\n",
        "print('Train: ', model.score(xtrain, ytrain))\n",
        "print('Test: ', model.score(xtest, ytest))\n",
        "\n",
        "draw_prediction(model, xtrain, ytrain, xtest, ytest)"
      ],
      "metadata": {
        "id": "kBgNioh6UWA-"
      },
      "execution_count": null,
      "outputs": []
    },
    {
      "cell_type": "markdown",
      "source": [
        "# Decision Tree Regressor"
      ],
      "metadata": {
        "id": "x9TG4EPYWQo5"
      }
    },
    {
      "cell_type": "code",
      "source": [
        "from sklearn.tree import DecisionTreeRegressor\n",
        "model = DecisionTreeRegressor(max_depth=9, min_samples_leaf=0.05)\n",
        "model.fit(xtrain, ytrain)\n",
        "\n",
        "print('Train: ', model.score(xtrain, ytrain))\n",
        "print('Test: ', model.score(xtest, ytest))\n",
        "\n",
        "draw_prediction(model, xtrain, ytrain, xtest, ytest)"
      ],
      "metadata": {
        "id": "70IPBbIMT1JV"
      },
      "execution_count": null,
      "outputs": []
    },
    {
      "cell_type": "markdown",
      "source": [
        "# Support Vector Regressor"
      ],
      "metadata": {
        "id": "H15WfQjfWUiI"
      }
    },
    {
      "cell_type": "code",
      "source": [
        "from sklearn.svm import SVR\n",
        "model = SVR(kernel='rbf', C=1)\n",
        "model.fit(xtrain, ytrain.ravel())\n",
        "\n",
        "print('Train: ', model.score(xtrain, ytrain.ravel()))\n",
        "print('Test: ', model.score(xtest, ytest.ravel()))\n",
        "\n",
        "draw_prediction(model, xtrain, ytrain, xtest, ytest)"
      ],
      "metadata": {
        "id": "J4lyIrYFUe7Z"
      },
      "execution_count": null,
      "outputs": []
    },
    {
      "cell_type": "markdown",
      "source": [
        "# Multi-Layer Perceptron"
      ],
      "metadata": {
        "id": "ki8jWz9EWZEq"
      }
    },
    {
      "cell_type": "code",
      "source": [
        "from sklearn.neural_network import MLPRegressor\n",
        "model = MLPRegressor(hidden_layer_sizes=(100,20),\n",
        "                     solver='adam', activation='relu', batch_size=10)\n",
        "model.fit(xtrain, ytrain.ravel())\n",
        "\n",
        "print('Train: ', model.score(xtrain, ytrain.ravel()))\n",
        "print('Test: ', model.score(xtest, ytest.ravel()))\n",
        "\n",
        "draw_prediction(model, xtrain, ytrain, xtest, ytest)"
      ],
      "metadata": {
        "id": "0AeY6WeaUdQx"
      },
      "execution_count": null,
      "outputs": []
    }
  ]
}