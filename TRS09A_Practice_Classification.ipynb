{
  "nbformat": 4,
  "nbformat_minor": 0,
  "metadata": {
    "colab": {
      "provenance": [],
      "authorship_tag": "ABX9TyNwsmpf197tLKPU6HWXKmkZ",
      "include_colab_link": true
    },
    "kernelspec": {
      "name": "python3",
      "display_name": "Python 3"
    },
    "language_info": {
      "name": "python"
    }
  },
  "cells": [
    {
      "cell_type": "markdown",
      "metadata": {
        "id": "view-in-github",
        "colab_type": "text"
      },
      "source": [
        "<a href=\"https://colab.research.google.com/github/Dr-Carlos-Villasenor/TRSeminar/blob/main/TRS09A_Practice_Classification.ipynb\" target=\"_parent\"><img src=\"https://colab.research.google.com/assets/colab-badge.svg\" alt=\"Open In Colab\"/></a>"
      ]
    },
    {
      "cell_type": "markdown",
      "source": [
        "# Machine Learning Seminar\n",
        "## Dr. Carlos Vilaseñor\n",
        "## Practice classification"
      ],
      "metadata": {
        "id": "zhAKXK-_wjWP"
      }
    },
    {
      "cell_type": "markdown",
      "source": [
        "Import basic modules"
      ],
      "metadata": {
        "id": "Dm6UxpG85QWX"
      }
    },
    {
      "cell_type": "code",
      "source": [
        "import pandas as pd\n",
        "import numpy as np"
      ],
      "metadata": {
        "id": "2luhCRpW5SWJ"
      },
      "execution_count": null,
      "outputs": []
    },
    {
      "cell_type": "markdown",
      "source": [
        "Run just one of the following datasets"
      ],
      "metadata": {
        "id": "r_0NVZgX5kZX"
      }
    },
    {
      "cell_type": "markdown",
      "source": [
        "# Cancer"
      ],
      "metadata": {
        "id": "olgWgOoo7n9v"
      }
    },
    {
      "cell_type": "code",
      "source": [
        "!wget 'https://raw.githubusercontent.com/Dr-Carlos-Villasenor/TRSeminar/main/Datasets/cancer.csv'\n",
        "df = pd.read_csv('cancer.csv')"
      ],
      "metadata": {
        "id": "yRULXvg5xSkg",
        "colab": {
          "base_uri": "https://localhost:8080/"
        },
        "outputId": "666f57bd-491e-49fe-a579-72b5d00de6a8"
      },
      "execution_count": 8,
      "outputs": [
        {
          "output_type": "stream",
          "name": "stdout",
          "text": [
            "--2024-05-07 16:43:32--  https://raw.githubusercontent.com/Dr-Carlos-Villasenor/TRSeminar/main/Datasets/cancer.csv\n",
            "Resolving raw.githubusercontent.com (raw.githubusercontent.com)... 185.199.108.133, 185.199.111.133, 185.199.110.133, ...\n",
            "Connecting to raw.githubusercontent.com (raw.githubusercontent.com)|185.199.108.133|:443... connected.\n",
            "HTTP request sent, awaiting response... 200 OK\n",
            "Length: 14249 (14K) [text/plain]\n",
            "Saving to: ‘cancer.csv’\n",
            "\n",
            "\rcancer.csv            0%[                    ]       0  --.-KB/s               \rcancer.csv          100%[===================>]  13.92K  --.-KB/s    in 0.001s  \n",
            "\n",
            "2024-05-07 16:43:32 (23.0 MB/s) - ‘cancer.csv’ saved [14249/14249]\n",
            "\n"
          ]
        }
      ]
    },
    {
      "cell_type": "code",
      "source": [
        "# Importar paquetes\n",
        "import matplotlib.pyplot as plt\n",
        "import numpy as np\n",
        "import pandas as pd\n",
        "from sklearn.linear_model import LogisticRegression\n",
        "from sklearn.model_selection import train_test_split\n",
        "\n",
        "# Select variables\n",
        "x = np.asanyarray(df.drop(columns=['Class']))\n",
        "y = np.asanyarray(df[['Class']]).ravel()\n",
        "\n",
        "# Train/test split\n",
        "xtrain, xtest, ytrain, ytest = train_test_split(x,y)\n",
        "\n",
        "# Import some modules\n",
        "from sklearn.preprocessing import StandardScaler\n",
        "from sklearn.pipeline import Pipeline\n",
        "\n",
        "# Create and train model\n",
        "model = Pipeline([\n",
        "    ('scaler', StandardScaler()),\n",
        "    ('logit', LogisticRegression(solver='lbfgs')) ])\n",
        "\n",
        "model.fit(xtrain,ytrain)\n",
        "\n",
        "# Calculate scores\n",
        "print('Train: ', model.score(xtrain,ytrain))\n",
        "print('Test: ', model.score(xtest,ytest))"
      ],
      "metadata": {
        "id": "nfB5Lgss7pfG",
        "colab": {
          "base_uri": "https://localhost:8080/"
        },
        "outputId": "84f36203-68a7-42f2-b29e-d7ce4a6cde79"
      },
      "execution_count": 9,
      "outputs": [
        {
          "output_type": "stream",
          "name": "stdout",
          "text": [
            "Train:  0.970703125\n",
            "Test:  0.9766081871345029\n"
          ]
        }
      ]
    },
    {
      "cell_type": "markdown",
      "source": [],
      "metadata": {
        "id": "rF69rB-d6is0"
      }
    },
    {
      "cell_type": "markdown",
      "source": [
        "# Stars"
      ],
      "metadata": {
        "id": "u-aAEW9A7TZk"
      }
    },
    {
      "cell_type": "code",
      "source": [
        "!wget 'https://raw.githubusercontent.com/Dr-Carlos-Villasenor/TRSeminar/main/Datasets/Stars.csv'\n",
        "df = pd.read_csv('Stars.csv')"
      ],
      "metadata": {
        "id": "2koV_GRs5jS_",
        "colab": {
          "base_uri": "https://localhost:8080/"
        },
        "outputId": "a551ba48-1e87-4cbc-f80e-77cd573facda"
      },
      "execution_count": null,
      "outputs": [
        {
          "output_type": "stream",
          "name": "stdout",
          "text": [
            "--2024-05-07 16:40:14--  https://raw.githubusercontent.com/Dr-Carlos-Villasenor/TRSeminar/main/Datasets/Stars.csv\n",
            "Resolving raw.githubusercontent.com (raw.githubusercontent.com)... 185.199.109.133, 185.199.111.133, 185.199.110.133, ...\n",
            "Connecting to raw.githubusercontent.com (raw.githubusercontent.com)|185.199.109.133|:443... connected.\n",
            "HTTP request sent, awaiting response... 200 OK\n",
            "Length: 11301 (11K) [text/plain]\n",
            "Saving to: ‘Stars.csv.1’\n",
            "\n",
            "\rStars.csv.1           0%[                    ]       0  --.-KB/s               \rStars.csv.1         100%[===================>]  11.04K  --.-KB/s    in 0s      \n",
            "\n",
            "2024-05-07 16:40:14 (73.8 MB/s) - ‘Stars.csv.1’ saved [11301/11301]\n",
            "\n"
          ]
        }
      ]
    },
    {
      "cell_type": "code",
      "source": [
        "from sklearn.model_selection import train_test_split\n",
        "from sklearn.preprocessing import StandardScaler\n",
        "from sklearn.svm import SVC\n",
        "from sklearn.neural_network import MLPClassifier\n",
        "from sklearn.preprocessing import LabelEncoder\n",
        "from sklearn.pipeline import Pipeline\n",
        "\n",
        "# Read data\n",
        "data = pd.read_csv('Stars.csv')\n",
        "\n",
        "# Codify\n",
        "le = LabelEncoder()\n",
        "data[['Spectral Class']] = le.fit_transform(np.array(data[['Spectral Class']]).ravel()).reshape(-1,1)\n",
        "labels = le.classes_\n",
        "le = LabelEncoder()\n",
        "data[['Star color']] = le.fit_transform(np.array(data[['Star color']]).ravel()).reshape(-1,1)\n",
        "\n",
        "\n",
        "# Variable selection\n",
        "x = np.asanyarray(data.drop(columns=['Star category', 'Spectral Class']))\n",
        "y = np.asanyarray(data[['Spectral Class']])\n",
        "xtrain, xtest, ytrain, ytest = train_test_split(x,y, test_size=0.3)\n",
        "\n",
        "# Create model\n",
        "model1 = Pipeline([('scaler', StandardScaler()),\n",
        "                  ('SVM', SVC(gamma=1))])\n",
        "\n",
        "model2 = Pipeline([('scaler', StandardScaler()),\n",
        "                  ('mlp', MLPClassifier(hidden_layer_sizes=(100,),\n",
        "                                        max_iter=500))])\n",
        "\n",
        "# Train and test\n",
        "model1.fit(xtrain, ytrain.ravel())\n",
        "print('SVC')\n",
        "print('Train: ', model1.score(xtrain, ytrain.ravel()))\n",
        "print('Test: ', model1.score(xtest, ytest.ravel()))\n",
        "\n",
        "model2.fit(xtrain, ytrain.ravel())\n",
        "print('MLP')\n",
        "print('Train: ', model2.score(xtrain, ytrain.ravel()))\n",
        "print('Test: ', model2.score(xtest, ytest.ravel()))\n",
        "\n",
        "# Performance metrics\n",
        "from sklearn.metrics import classification_report\n",
        "from sklearn.metrics import confusion_matrix, ConfusionMatrixDisplay\n",
        "import matplotlib.pyplot as plt\n",
        "\n",
        "# Confusion matrix, class report\n",
        "ypred = model1.predict(xtest)\n",
        "cm = confusion_matrix(ytest, ypred.ravel())\n",
        "disp = ConfusionMatrixDisplay(confusion_matrix=cm)\n",
        "disp.plot()\n",
        "plt.title('SVC results')\n",
        "plt.show()\n",
        "\n",
        "print('Reporte de clasificación:\\n')\n",
        "print(classification_report(ytest.ravel(), ypred))\n"
      ],
      "metadata": {
        "colab": {
          "base_uri": "https://localhost:8080/",
          "height": 1000
        },
        "id": "MLtRJYFM6pE0",
        "outputId": "2524a8b7-9e6c-431c-eef9-d79c5e5d769e"
      },
      "execution_count": null,
      "outputs": [
        {
          "output_type": "stream",
          "name": "stdout",
          "text": [
            "SVC\n",
            "Train:  0.9464285714285714\n",
            "Test:  0.875\n"
          ]
        },
        {
          "output_type": "stream",
          "name": "stderr",
          "text": [
            "/usr/local/lib/python3.10/dist-packages/sklearn/neural_network/_multilayer_perceptron.py:686: ConvergenceWarning: Stochastic Optimizer: Maximum iterations (500) reached and the optimization hasn't converged yet.\n",
            "  warnings.warn(\n"
          ]
        },
        {
          "output_type": "stream",
          "name": "stdout",
          "text": [
            "MLP\n",
            "Train:  0.9404761904761905\n",
            "Test:  0.9027777777777778\n"
          ]
        },
        {
          "output_type": "display_data",
          "data": {
            "text/plain": [
              "<Figure size 640x480 with 2 Axes>"
            ],
            "image/png": "[encoded data removed]"
          },
          "metadata": {}
        },
        {
          "output_type": "stream",
          "name": "stdout",
          "text": [
            "Reporte de clasificación:\n",
            "\n",
            "              precision    recall  f1-score   support\n",
            "\n",
            "           0       1.00      0.40      0.57         5\n",
            "           1       0.67      1.00      0.80        10\n",
            "           2       0.67      1.00      0.80         6\n",
            "           4       0.00      0.00      0.00         3\n",
            "           5       0.97      0.97      0.97        33\n",
            "           6       1.00      0.87      0.93        15\n",
            "\n",
            "    accuracy                           0.88        72\n",
            "   macro avg       0.72      0.71      0.68        72\n",
            "weighted avg       0.87      0.88      0.86        72\n",
            "\n"
          ]
        },
        {
          "output_type": "stream",
          "name": "stderr",
          "text": [
            "/usr/local/lib/python3.10/dist-packages/sklearn/metrics/_classification.py:1344: UndefinedMetricWarning: Precision and F-score are ill-defined and being set to 0.0 in labels with no predicted samples. Use `zero_division` parameter to control this behavior.\n",
            "  _warn_prf(average, modifier, msg_start, len(result))\n",
            "/usr/local/lib/python3.10/dist-packages/sklearn/metrics/_classification.py:1344: UndefinedMetricWarning: Precision and F-score are ill-defined and being set to 0.0 in labels with no predicted samples. Use `zero_division` parameter to control this behavior.\n",
            "  _warn_prf(average, modifier, msg_start, len(result))\n",
            "/usr/local/lib/python3.10/dist-packages/sklearn/metrics/_classification.py:1344: UndefinedMetricWarning: Precision and F-score are ill-defined and being set to 0.0 in labels with no predicted samples. Use `zero_division` parameter to control this behavior.\n",
            "  _warn_prf(average, modifier, msg_start, len(result))\n"
          ]
        }
      ]
    },
    {
      "cell_type": "markdown",
      "source": [
        "# Insurance"
      ],
      "metadata": {
        "id": "LIVBHkd57cuU"
      }
    },
    {
      "cell_type": "code",
      "source": [
        "!wget 'https://raw.githubusercontent.com/Dr-Carlos-Villasenor/TRSeminar/main/Datasets/insurance.csv'\n",
        "df = pd.read_csv('insurance.csv')"
      ],
      "metadata": {
        "id": "rd8nsFAB5jKf",
        "colab": {
          "base_uri": "https://localhost:8080/"
        },
        "outputId": "6e3ac6af-b7c1-4156-c744-99a23cb53b1e"
      },
      "execution_count": null,
      "outputs": [
        {
          "output_type": "stream",
          "name": "stdout",
          "text": [
            "--2024-05-07 16:41:00--  https://raw.githubusercontent.com/Dr-Carlos-Villasenor/TRSeminar/main/Datasets/insurance.csv\n",
            "Resolving raw.githubusercontent.com (raw.githubusercontent.com)... 185.199.108.133, 185.199.109.133, 185.199.110.133, ...\n",
            "Connecting to raw.githubusercontent.com (raw.githubusercontent.com)|185.199.108.133|:443... connected.\n",
            "HTTP request sent, awaiting response... 200 OK\n",
            "Length: 55628 (54K) [text/plain]\n",
            "Saving to: ‘insurance.csv’\n",
            "\n",
            "insurance.csv       100%[===================>]  54.32K  --.-KB/s    in 0.007s  \n",
            "\n",
            "2024-05-07 16:41:01 (7.72 MB/s) - ‘insurance.csv’ saved [55628/55628]\n",
            "\n"
          ]
        }
      ]
    },
    {
      "cell_type": "code",
      "source": [
        "from sklearn.model_selection import train_test_split\n",
        "from sklearn.svm import SVR\n",
        "from sklearn.neural_network import MLPRegressor\n",
        "from sklearn.preprocessing import StandardScaler\n",
        "from sklearn.pipeline import Pipeline\n",
        "\n",
        "# Read data\n",
        "data = pd.read_csv('insurance.csv')\n",
        "\n",
        "# Coding\n",
        "data.replace({'no':0,'yes':1, 'male':0, 'female':1},\n",
        "             inplace=True)\n",
        "region_oh = pd.get_dummies(data.region)\n",
        "data = data.drop('region', axis = 1)\n",
        "data = data.join(region_oh)\n",
        "\n",
        "# Select variables\n",
        "x = np.asanyarray(data.drop('charges', axis=1))\n",
        "y = np.asanyarray(data[['charges']])\n",
        "xtrain, xtest, ytrain, ytest = train_test_split(x,y, test_size=0.15)\n",
        "\n",
        "# Create model\n",
        "model = Pipeline([('scaler', StandardScaler()),\n",
        "                  ('mlp', MLPRegressor(hidden_layer_sizes=(100,50,10),\n",
        "                                       max_iter=2000))])\n",
        "\n",
        "model.fit(xtrain, ytrain.ravel())\n",
        "print('MLP')\n",
        "print('Train: ', model.score(xtrain, ytrain.ravel()))\n",
        "print('Test: ', model.score(xtest, ytest.ravel()))"
      ],
      "metadata": {
        "id": "aVQnDw9m58rA",
        "colab": {
          "base_uri": "https://localhost:8080/"
        },
        "outputId": "4ce852b8-69f7-4b43-d524-7981f17b9e34"
      },
      "execution_count": null,
      "outputs": [
        {
          "output_type": "stream",
          "name": "stdout",
          "text": [
            "MLP\n",
            "Train:  0.8861175179135065\n",
            "Test:  0.8056935179604231\n"
          ]
        },
        {
          "output_type": "stream",
          "name": "stderr",
          "text": [
            "/usr/local/lib/python3.10/dist-packages/sklearn/neural_network/_multilayer_perceptron.py:686: ConvergenceWarning: Stochastic Optimizer: Maximum iterations (2000) reached and the optimization hasn't converged yet.\n",
            "  warnings.warn(\n"
          ]
        }
      ]
    }
  ]
}