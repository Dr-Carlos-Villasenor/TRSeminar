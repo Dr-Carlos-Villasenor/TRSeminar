{
  "nbformat": 4,
  "nbformat_minor": 0,
  "metadata": {
    "colab": {
      "provenance": [],
      "authorship_tag": "ABX9TyMkNl+JJz/zmCwjeRidrvYL",
      "include_colab_link": true
    },
    "kernelspec": {
      "name": "python3",
      "display_name": "Python 3"
    },
    "language_info": {
      "name": "python"
    }
  },
  "cells": [
    {
      "cell_type": "markdown",
      "metadata": {
        "id": "view-in-github",
        "colab_type": "text"
      },
      "source": [
        "<a href=\"https://colab.research.google.com/github/Dr-Carlos-Villasenor/TRSeminar/blob/main/TRS04_Poly_reg.ipynb\" target=\"_parent\"><img src=\"https://colab.research.google.com/assets/colab-badge.svg\" alt=\"Open In Colab\"/></a>"
      ]
    },
    {
      "cell_type": "markdown",
      "source": [
        "# Machine Learning Seminar\n",
        "## Dr. Carlos Vilaseñor\n",
        "## Polynomial regression"
      ],
      "metadata": {
        "id": "uhSFgLciP6CB"
      }
    },
    {
      "cell_type": "code",
      "source": [
        "# Basic modules\n",
        "import numpy as np\n",
        "import numpy.random as rnd\n",
        "import matplotlib.pyplot as plt\n",
        "\n",
        "# Sklearn modules\n",
        "from sklearn.preprocessing import PolynomialFeatures\n",
        "from sklearn.linear_model import LinearRegression\n",
        "from sklearn.preprocessing import StandardScaler\n",
        "from sklearn.pipeline import Pipeline\n",
        "from sklearn.model_selection import train_test_split"
      ],
      "metadata": {
        "id": "JRYxjZIRxm7F"
      },
      "execution_count": 1,
      "outputs": []
    },
    {
      "cell_type": "markdown",
      "source": [
        "Create sintetic data"
      ],
      "metadata": {
        "id": "Kd6cL1MbxocG"
      }
    },
    {
      "cell_type": "code",
      "source": [
        "# seed\n",
        "np.random.seed(42)\n",
        "\n",
        "# random samples\n",
        "m = 100\n",
        "X = 6 * np.random.rand(m, 1) - 3\n",
        "y = 0.5 * X**2 + X + 2 + np.random.randn(m, 1)\n",
        "\n",
        "# draw data\n",
        "plt.plot(X, y, \"b.\")\n",
        "plt.xlabel(\"$x_1$\", fontsize=18)\n",
        "plt.ylabel(\"$y$\", rotation=0, fontsize=18)\n",
        "plt.axis([-3, 3, 0, 10])\n",
        "plt.show()"
      ],
      "metadata": {
        "id": "BJFwiYFDxnpY",
        "colab": {
          "base_uri": "https://localhost:8080/",
          "height": 465
        },
        "outputId": "7a7f04b1-a65a-4fa3-b5ae-6b1cd890ffad"
      },
      "execution_count": 3,
      "outputs": [
        {
          "output_type": "display_data",
          "data": {
            "text/plain": [
              "<Figure size 640x480 with 1 Axes>"
            ],
            "image/png": "[encoded data removed]"
          },
          "metadata": {}
        }
      ]
    },
    {
      "cell_type": "markdown",
      "source": [
        "Polynomial features"
      ],
      "metadata": {
        "id": "cgV-lwxVnenW"
      }
    },
    {
      "cell_type": "code",
      "source": [
        "# Create polynomial features object\n",
        "poly_features = PolynomialFeatures(degree=3, include_bias=False)\n",
        "\n",
        "# Transform data\n",
        "X_poly = poly_features.fit_transform(X)\n",
        "\n",
        "# Let's compare them\n",
        "print(X[0])\n",
        "print(X_poly[0])"
      ],
      "metadata": {
        "id": "0xpYEbP0xzHb"
      },
      "execution_count": null,
      "outputs": []
    },
    {
      "cell_type": "code",
      "source": [
        "# Create scaler\n",
        "scaler = StandardScaler()\n",
        "\n",
        "# Scale polinomial features\n",
        "X_poly_scaled = scaler.fit_transform(X_poly)"
      ],
      "metadata": {
        "id": "CKZyG7aqx7EA"
      },
      "execution_count": 5,
      "outputs": []
    },
    {
      "cell_type": "markdown",
      "source": [
        "Let's create a linear regressor with the polynomial features\n",
        "\n",
        "$$\\hat{y} = \\beta_1 x + \\beta_2 x^2 + \\beta_3 x^3 + \\beta_0$$"
      ],
      "metadata": {
        "id": "FLlXKXIrx-SM"
      }
    },
    {
      "cell_type": "code",
      "source": [
        "# Create model\n",
        "lin_reg = LinearRegression()\n",
        "\n",
        "# fit model\n",
        "lin_reg.fit(X_poly_scaled, y)"
      ],
      "metadata": {
        "id": "R5B-RJJvyDGp"
      },
      "execution_count": null,
      "outputs": []
    },
    {
      "cell_type": "markdown",
      "source": [
        "6. Draw model"
      ],
      "metadata": {
        "id": "sU3QYgMvyHTm"
      }
    },
    {
      "cell_type": "code",
      "source": [
        "# interpolate points from -3 to 3\n",
        "X_new=np.linspace(-3, 3, 100).reshape(100, 1)\n",
        "\n",
        "# Expand polynomial features\n",
        "X_new_poly = poly_features.transform(X_new)\n",
        "\n",
        "# scale expanded data\n",
        "X_new_poly_scaled = scaler.transform(X_new_poly)\n",
        "\n",
        "# make new predictions\n",
        "y_new = lin_reg.predict(X_new_poly_scaled)\n",
        "\n",
        "# draw original points\n",
        "plt.plot(X, y, \"b.\")\n",
        "\n",
        "# draw regression line\n",
        "plt.plot(X_new, y_new, \"r-\", linewidth=2, label=\"Predictions\")\n",
        "\n",
        "# add labels\n",
        "plt.xlabel(\"$x_1$\", fontsize=18)\n",
        "plt.ylabel(\"$y$\", rotation=0, fontsize=18)\n",
        "plt.legend(loc=\"upper left\", fontsize=14)\n",
        "plt.axis([-3, 3, 0, 10])\n",
        "plt.show()"
      ],
      "metadata": {
        "id": "A2QzzzrNyKbU"
      },
      "execution_count": null,
      "outputs": []
    },
    {
      "cell_type": "markdown",
      "source": [
        "Make a particular prediction"
      ],
      "metadata": {
        "id": "T1ruhej4oHSa"
      }
    },
    {
      "cell_type": "code",
      "source": [
        "print(lin_reg.predict(scaler.transform(poly_features.transform([[1.5]]))))"
      ],
      "metadata": {
        "id": "lu6rH8rnyOYO"
      },
      "execution_count": null,
      "outputs": []
    },
    {
      "cell_type": "markdown",
      "source": [
        "We can work in a better way if we use pipeline"
      ],
      "metadata": {
        "id": "Mrn5JldcySuF"
      }
    },
    {
      "cell_type": "code",
      "source": [
        "# polynomial degree\n",
        "degree = 300\n",
        "\n",
        "# Create model\n",
        "model = Pipeline([(\"poly_features\", PolynomialFeatures(degree=degree, include_bias=False)),\n",
        "                  (\"std_scaler\", StandardScaler()),\n",
        "                  (\"lin_reg\", LinearRegression())])"
      ],
      "metadata": {
        "id": "COEFjeM_yWXg"
      },
      "execution_count": 14,
      "outputs": []
    },
    {
      "cell_type": "markdown",
      "source": [
        "Let's try to fit the new model"
      ],
      "metadata": {
        "id": "eHn32Xa6ya1c"
      }
    },
    {
      "cell_type": "code",
      "source": [
        "# Train model\n",
        "model.fit(X, y)\n",
        "\n",
        "# Calculate model performance (r2_score)\n",
        "print('r2-score: ', model.score(X, y))\n",
        "\n",
        "# Draw output\n",
        "y_new = model.predict(X_new)\n",
        "plt.plot(X_new, y_new, 'r--', label=str(degree), linewidth=2)\n",
        "plt.plot(X, y, \"b.\", linewidth=3)\n",
        "plt.legend(loc=\"upper left\")\n",
        "plt.xlabel(\"$x_1$\")\n",
        "plt.ylabel(\"$y$\")\n",
        "plt.axis([-3, 3, 0, 10])\n",
        "plt.show()"
      ],
      "metadata": {
        "id": "05NV1vkVycY5"
      },
      "execution_count": null,
      "outputs": []
    },
    {
      "cell_type": "markdown",
      "source": [
        "Repeat the experiment with 1 and 300 degree"
      ],
      "metadata": {
        "id": "tiKWXtaGorqI"
      }
    },
    {
      "cell_type": "markdown",
      "source": [
        "## Generalization\n"
      ],
      "metadata": {
        "id": "nkRujWhmyzoL"
      }
    },
    {
      "cell_type": "code",
      "source": [
        "# Split dataset 75% to train and 25% to test\n",
        "xtrain, xtest, ytrain, ytest = train_test_split(X, y, test_size=0.25)\n",
        "\n",
        "# print shapes\n",
        "print(\"Entrada original: \", X.shape)\n",
        "print(\"Entrada entrenamiento: \", xtrain.shape)\n",
        "print(\"Entrada prueba: \", xtest.shape)\n",
        "\n",
        "print(\"Salida original: \", y.shape)\n",
        "print(\"Salida entrenamiento: \", ytrain.shape)\n",
        "print(\"Salida prueba: \", ytest.shape)"
      ],
      "metadata": {
        "id": "qaUf4hYOy6lf"
      },
      "execution_count": null,
      "outputs": []
    },
    {
      "cell_type": "markdown",
      "source": [
        "Here you have a copy of the code, but using the partition to show generalization"
      ],
      "metadata": {
        "id": "i66Y7c4UpGUn"
      }
    },
    {
      "cell_type": "code",
      "source": [
        "degree = 300\n",
        "\n",
        "\n",
        "model = Pipeline([(\"poly_features\", PolynomialFeatures(degree=degree, include_bias=False)),\n",
        "                  (\"std_scaler\", StandardScaler()),\n",
        "                  (\"lin_reg\", LinearRegression())])\n",
        "\n",
        "model.fit(xtrain, ytrain)\n",
        "\n",
        "print('Train: ', model.score(xtrain, ytrain))\n",
        "print('Test: ', model.score(xtest, ytest))\n",
        "\n",
        "y_new = model.predict(X_new)\n",
        "plt.plot(X_new, y_new, 'k--', label='modelo', linewidth=2)\n",
        "plt.plot(xtrain, ytrain, \"b.\", label='train', linewidth=3)\n",
        "plt.plot(xtest, ytest, \"r.\",label='test', linewidth=3)\n",
        "plt.legend(loc=\"upper left\")\n",
        "plt.xlabel(\"$x_1$\")\n",
        "plt.ylabel(\"$y$\")\n",
        "plt.axis([-3, 3, 0, 10])\n",
        "plt.show()"
      ],
      "metadata": {
        "id": "tsMJrGDiy9Gx"
      },
      "execution_count": null,
      "outputs": []
    }
  ]
}