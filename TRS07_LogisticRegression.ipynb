{
  "cells": [
    {
      "cell_type": "markdown",
      "metadata": {
        "id": "view-in-github",
        "colab_type": "text"
      },
      "source": [
        "<a href=\"https://colab.research.google.com/github/Dr-Carlos-Villasenor/TRSeminar/blob/main/TRS07_LogisticRegression.ipynb\" target=\"_parent\"><img src=\"https://colab.research.google.com/assets/colab-badge.svg\" alt=\"Open In Colab\"/></a>"
      ]
    },
    {
      "cell_type": "markdown",
      "metadata": {
        "id": "SdiZmETY0eEY"
      },
      "source": [
        "# Machine Learning Seminar\n",
        "## Dr. Carlos Vilaseñor\n",
        "## Logistic and Softmax Regression"
      ]
    },
    {
      "cell_type": "markdown",
      "source": [
        "Logistic function"
      ],
      "metadata": {
        "id": "C88u0vv92gbO"
      }
    },
    {
      "cell_type": "code",
      "execution_count": 1,
      "metadata": {
        "id": "DODKJeMJ0eEb"
      },
      "outputs": [],
      "source": [
        "import numpy as np\n",
        "import matplotlib.pyplot as plt"
      ]
    },
    {
      "cell_type": "code",
      "execution_count": null,
      "metadata": {
        "scrolled": true,
        "id": "aiOlg3TE0eEc"
      },
      "outputs": [],
      "source": [
        "x = np.linspace(-10, 10, 100)\n",
        "sig = 1 / (1 + np.exp(-x))\n",
        "plt.plot([-10, 10], [0, 0], \"k-\")\n",
        "plt.plot([-10, 10], [0.5, 0.5], \"k:\")\n",
        "plt.plot([-10, 10], [1, 1], \"k:\")\n",
        "plt.plot([0, 0], [-1.1, 1.1], \"k-\")\n",
        "plt.plot(x, sig, \"b-\", linewidth=2, label=r\"$\\sigma(x) = \\frac{1}{1 + e^{-x}}$\")\n",
        "plt.xlabel(\"x\")\n",
        "plt.legend(loc=\"upper left\", fontsize=10)\n",
        "plt.axis([-10, 10, -0.1, 1.1])\n",
        "plt.show()"
      ]
    },
    {
      "cell_type": "markdown",
      "source": [
        "# Import Modules"
      ],
      "metadata": {
        "id": "PTKLqJns1Bo0"
      }
    },
    {
      "cell_type": "code",
      "execution_count": 3,
      "metadata": {
        "id": "JejE_N7E0eEd"
      },
      "outputs": [],
      "source": [
        "# Importar paquetes\n",
        "import matplotlib.pyplot as plt\n",
        "import numpy as np\n",
        "import pandas as pd\n",
        "from sklearn.linear_model import LogisticRegression\n",
        "from sklearn.model_selection import train_test_split"
      ]
    },
    {
      "cell_type": "markdown",
      "source": [
        "# Read Data"
      ],
      "metadata": {
        "id": "5IDJf0sz2YLT"
      }
    },
    {
      "cell_type": "code",
      "source": [
        "!wget 'https://raw.githubusercontent.com/Dr-Carlos-Villasenor/TRSeminar/main/Datasets/diabetes.csv'"
      ],
      "metadata": {
        "id": "i1JaZ78_1QKB"
      },
      "execution_count": null,
      "outputs": []
    },
    {
      "cell_type": "code",
      "execution_count": null,
      "metadata": {
        "id": "tVmLEsSD0eEe"
      },
      "outputs": [],
      "source": [
        "data = pd.read_csv('diabetes.csv')\n",
        "print(data.info())"
      ]
    },
    {
      "cell_type": "markdown",
      "source": [
        "# Exploring data"
      ],
      "metadata": {
        "id": "VYAl9HEZ2Vvx"
      }
    },
    {
      "cell_type": "code",
      "execution_count": null,
      "metadata": {
        "id": "LG4otvDl0eEf"
      },
      "outputs": [],
      "source": [
        "no_show = pd.plotting.scatter_matrix(data)"
      ]
    },
    {
      "cell_type": "code",
      "execution_count": null,
      "metadata": {
        "id": "Fp_HUfLP0eEf"
      },
      "outputs": [],
      "source": [
        "corr = data.corr()\n",
        "print(corr)\n",
        "import seaborn as sns\n",
        "sns.heatmap(corr,\n",
        "         xticklabels=corr.columns,\n",
        "         yticklabels=corr.columns)"
      ]
    },
    {
      "cell_type": "markdown",
      "source": [
        "# Logistic regression"
      ],
      "metadata": {
        "id": "BfgJ7LVB2Q8b"
      }
    },
    {
      "cell_type": "code",
      "execution_count": null,
      "metadata": {
        "id": "xteRH_l70eEh"
      },
      "outputs": [],
      "source": [
        "# Select variables\n",
        "x = np.asanyarray(data.drop(columns=['Outcome']))\n",
        "y = np.asanyarray(data[['Outcome']]).ravel()\n",
        "\n",
        "# Train/test split\n",
        "xtrain, xtest, ytrain, ytest = train_test_split(x,y)\n",
        "\n",
        "# Import some modules\n",
        "from sklearn.preprocessing import StandardScaler\n",
        "from sklearn.pipeline import Pipeline\n",
        "\n",
        "# Create and train model\n",
        "model = Pipeline([\n",
        "    ('scaler', StandardScaler()),\n",
        "    ('logit', LogisticRegression(solver='lbfgs')) ])\n",
        "\n",
        "model.fit(xtrain,ytrain)\n",
        "\n",
        "# Calculate scores\n",
        "print('Train: ', model.score(xtrain,ytrain))\n",
        "print('Test: ', model.score(xtest,ytest))"
      ]
    },
    {
      "cell_type": "markdown",
      "source": [
        "# Variable explanation"
      ],
      "metadata": {
        "id": "fVu7AfSW1eEp"
      }
    },
    {
      "cell_type": "code",
      "execution_count": null,
      "metadata": {
        "id": "4qsXnZhF0eEh"
      },
      "outputs": [],
      "source": [
        "coeff = np.abs(model.named_steps['logit'].coef_[0])\n",
        "coeff = coeff / np.sum(coeff)\n",
        "labels = list(data.drop(columns=['Outcome']).columns)\n",
        "features = pd.DataFrame()\n",
        "features['Features'] = labels\n",
        "features['importance'] = coeff\n",
        "features.sort_values(by=['importance'], ascending=True, inplace=True)\n",
        "features.set_index('Features', inplace=True)\n",
        "features.importance.plot(kind='barh')\n",
        "plt.xlabel('Importance')\n",
        "print(features)"
      ]
    },
    {
      "cell_type": "markdown",
      "source": [
        "# SoftMax regression"
      ],
      "metadata": {
        "id": "WILHJiYf10Ft"
      }
    },
    {
      "cell_type": "code",
      "execution_count": null,
      "metadata": {
        "id": "R0HfW5ZC0eEj"
      },
      "outputs": [],
      "source": [
        "from sklearn import datasets\n",
        "iris = datasets.load_iris()\n",
        "list(iris.keys())"
      ]
    },
    {
      "cell_type": "code",
      "execution_count": null,
      "metadata": {
        "id": "jm-brBwZ0eEj"
      },
      "outputs": [],
      "source": [
        "print(iris.DESCR)"
      ]
    },
    {
      "cell_type": "code",
      "execution_count": null,
      "metadata": {
        "id": "v7KzlWah0eEj"
      },
      "outputs": [],
      "source": [
        "x = iris[\"data\"][:, (2, 3)]  # petal length, petal width\n",
        "y = iris[\"target\"]\n",
        "\n",
        "plt.plot(x[y==2, 0], x[y==2, 1], \"g^\", label=\"Iris-Virginica\")\n",
        "plt.plot(x[y==1, 0], x[y==1, 1], \"bs\", label=\"Iris-Versicolor\")\n",
        "plt.plot(x[y==0, 0], x[y==0, 1], \"yo\", label=\"Iris-Setosa\")\n",
        "\n",
        "# Train/Test split\n",
        "xtrain, xtest, ytrain, ytest = train_test_split(x,y)\n",
        "\n",
        "softmax_reg = LogisticRegression(multi_class=\"multinomial\", solver=\"lbfgs\")\n",
        "softmax_reg.fit(xtrain, ytrain)\n",
        "\n",
        "# Score calculation\n",
        "print('Train: ', softmax_reg.score(xtrain,ytrain))\n",
        "print('Test: ', softmax_reg.score(xtest,ytest))"
      ]
    },
    {
      "cell_type": "code",
      "source": [
        "from sklearn.metrics import ConfusionMatrixDisplay, confusion_matrix\n",
        "\n",
        "ypred = softmax_reg.predict(xtest)\n",
        "cm = confusion_matrix(ytest, ypred)\n",
        "cm_display = ConfusionMatrixDisplay(cm, display_labels=['Setosa',\n",
        "                                                        'Versicolor',\n",
        "                                                        'Virginica']).plot()"
      ],
      "metadata": {
        "id": "0_8q25UZmDHf"
      },
      "execution_count": null,
      "outputs": []
    },
    {
      "cell_type": "code",
      "source": [
        "from sklearn.metrics import classification_report\n",
        "print('Classification Report: /n', classification_report(ytest, ypred))"
      ],
      "metadata": {
        "id": "Kf5VbLgWm7oS"
      },
      "execution_count": null,
      "outputs": []
    }
  ],
  "metadata": {
    "kernelspec": {
      "display_name": "Python 3",
      "language": "python",
      "name": "python3"
    },
    "language_info": {
      "codemirror_mode": {
        "name": "ipython",
        "version": 3
      },
      "file_extension": ".py",
      "mimetype": "text/x-python",
      "name": "python",
      "nbconvert_exporter": "python",
      "pygments_lexer": "ipython3",
      "version": "3.7.1"
    },
    "colab": {
      "provenance": [],
      "include_colab_link": true
    }
  },
  "nbformat": 4,
  "nbformat_minor": 0
}