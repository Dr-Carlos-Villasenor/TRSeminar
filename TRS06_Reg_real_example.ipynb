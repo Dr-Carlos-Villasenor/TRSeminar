{
  "nbformat": 4,
  "nbformat_minor": 0,
  "metadata": {
    "colab": {
      "provenance": [],
      "authorship_tag": "ABX9TyPnHFILUdeoKI9djL9S6fT2",
      "include_colab_link": true
    },
    "kernelspec": {
      "name": "python3",
      "display_name": "Python 3"
    },
    "language_info": {
      "name": "python"
    }
  },
  "cells": [
    {
      "cell_type": "markdown",
      "metadata": {
        "id": "view-in-github",
        "colab_type": "text"
      },
      "source": [
        "<a href=\"https://colab.research.google.com/github/Dr-Carlos-Villasenor/TRSeminar/blob/main/TRS06_Reg_real_example.ipynb\" target=\"_parent\"><img src=\"https://colab.research.google.com/assets/colab-badge.svg\" alt=\"Open In Colab\"/></a>"
      ]
    },
    {
      "cell_type": "markdown",
      "source": [
        "# Machine Learning Seminar\n",
        "## Dr. Carlos Vilaseñor\n",
        "## Real example of a regression problem"
      ],
      "metadata": {
        "id": "uhSFgLciP6CB"
      }
    },
    {
      "cell_type": "code",
      "source": [
        "import pandas as pd\n",
        "import numpy as np\n",
        "import matplotlib.pyplot as plt"
      ],
      "metadata": {
        "id": "qUELPODeX3Gt"
      },
      "execution_count": 1,
      "outputs": []
    },
    {
      "cell_type": "markdown",
      "source": [
        "Read dataset"
      ],
      "metadata": {
        "id": "6TKVZtElYRkL"
      }
    },
    {
      "cell_type": "code",
      "source": [
        "!wget 'https://raw.githubusercontent.com/Dr-Carlos-Villasenor/TRSeminar/main/Datasets/home_data.csv'\n",
        "data = pd.read_csv('home_data.csv')\n",
        "print(data.head())"
      ],
      "metadata": {
        "id": "1RcWhdW1X6db"
      },
      "execution_count": null,
      "outputs": []
    },
    {
      "cell_type": "code",
      "source": [
        "data.info()"
      ],
      "metadata": {
        "id": "tDMX4IZKX5-I"
      },
      "execution_count": null,
      "outputs": []
    },
    {
      "cell_type": "code",
      "source": [
        "data.plot.scatter(x='long',y='price')\n",
        "plt.show()"
      ],
      "metadata": {
        "id": "SK2-MBBKYvwz"
      },
      "execution_count": null,
      "outputs": []
    },
    {
      "cell_type": "markdown",
      "source": [
        "Feature selection"
      ],
      "metadata": {
        "id": "dda1b9adaNp4"
      }
    },
    {
      "cell_type": "code",
      "source": [
        "x = np.asanyarray(data.drop(columns=['id','date','price','zipcode']))\n",
        "y = np.asanyarray(data[['price']])\n",
        "\n",
        "print(x.shape, y.shape)"
      ],
      "metadata": {
        "id": "lVnrvmCOY0rg"
      },
      "execution_count": null,
      "outputs": []
    },
    {
      "cell_type": "markdown",
      "source": [
        "Scale and split data"
      ],
      "metadata": {
        "id": "tEMIbiPnaQZt"
      }
    },
    {
      "cell_type": "code",
      "source": [
        "from sklearn.preprocessing import StandardScaler\n",
        "from sklearn.model_selection import train_test_split\n",
        "\n",
        "x = StandardScaler().fit_transform(x)\n",
        "xtrain, xtest, ytrain, ytest = train_test_split(x, y)\n",
        "print(xtrain.shape, xtest.shape, ytrain.shape, ytest.shape)"
      ],
      "metadata": {
        "id": "8n9jvRjYY6Vm"
      },
      "execution_count": null,
      "outputs": []
    },
    {
      "cell_type": "markdown",
      "source": [
        "Import all the models"
      ],
      "metadata": {
        "id": "fqREwXMuaSZX"
      }
    },
    {
      "cell_type": "code",
      "source": [
        "from sklearn.linear_model import LinearRegression\n",
        "from sklearn.neighbors import KNeighborsRegressor\n",
        "from sklearn.tree import DecisionTreeRegressor\n",
        "from sklearn.svm import SVR\n",
        "from sklearn.neural_network import MLPRegressor"
      ],
      "metadata": {
        "id": "tC0aBhfmZGiA"
      },
      "execution_count": 37,
      "outputs": []
    },
    {
      "cell_type": "markdown",
      "source": [
        "Train model in the next block (look for the best model)"
      ],
      "metadata": {
        "id": "wSInvgVEabTl"
      }
    },
    {
      "cell_type": "code",
      "source": [
        "model =\n",
        "model.fit(xtrain, ytrain)"
      ],
      "metadata": {
        "id": "v7F-SI5-alMH"
      },
      "execution_count": null,
      "outputs": []
    },
    {
      "cell_type": "markdown",
      "source": [
        "Test your model"
      ],
      "metadata": {
        "id": "oWqFH9hRaeOr"
      }
    },
    {
      "cell_type": "code",
      "source": [
        "train_score = model.score(xtrain, ytrain)\n",
        "test_score = model.score(xtest, ytest)"
      ],
      "metadata": {
        "id": "V5AlntwGcGLU"
      },
      "execution_count": 47,
      "outputs": []
    },
    {
      "cell_type": "code",
      "source": [
        "print('Train: ', train_score)\n",
        "print('Test: ', test_score)"
      ],
      "metadata": {
        "id": "re4OGNThcZ4Z"
      },
      "execution_count": null,
      "outputs": []
    }
  ]
}