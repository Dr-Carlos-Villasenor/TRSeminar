{
  "nbformat": 4,
  "nbformat_minor": 0,
  "metadata": {
    "colab": {
      "provenance": [],
      "authorship_tag": "ABX9TyNQ7xpVSuzWvrqDHAN3rNCx",
      "include_colab_link": true
    },
    "kernelspec": {
      "name": "python3",
      "display_name": "Python 3"
    },
    "language_info": {
      "name": "python"
    }
  },
  "cells": [
    {
      "cell_type": "markdown",
      "metadata": {
        "id": "view-in-github",
        "colab_type": "text"
      },
      "source": [
        "<a href=\"https://colab.research.google.com/github/Dr-Carlos-Villasenor/TRSeminar/blob/main/TRS01_Pandas.ipynb\" target=\"_parent\"><img src=\"https://colab.research.google.com/assets/colab-badge.svg\" alt=\"Open In Colab\"/></a>"
      ]
    },
    {
      "cell_type": "markdown",
      "source": [
        "# Machine Learning Seminar\n",
        "## Dr. Carlos Vilaseñor\n",
        "## Pandas library"
      ],
      "metadata": {
        "id": "zhAKXK-_wjWP"
      }
    },
    {
      "cell_type": "markdown",
      "source": [
        "*Pandas* library is an extension of *NumPy* and *Matplotlib*. *Pandas* is used for data hangling and analisys in *Python*."
      ],
      "metadata": {
        "id": "2cFtXrr5wwvM"
      }
    },
    {
      "cell_type": "code",
      "source": [
        "import pandas as pd\n",
        "import numpy as np"
      ],
      "metadata": {
        "id": "VYNlGLaRwi3s"
      },
      "execution_count": 2,
      "outputs": []
    },
    {
      "cell_type": "markdown",
      "source": [
        "## Main objects\n",
        "\n",
        "There are two principal objects in *pandas*, the **Series** object and the  **DataFrame** object\n",
        "\n",
        "### Series Object\n",
        "\n",
        "The Series object is like a *NumPy* ndarray but one-dimensional with labels, for example:\n"
      ],
      "metadata": {
        "id": "Dp86RaEMw5h3"
      }
    },
    {
      "cell_type": "code",
      "execution_count": null,
      "metadata": {
        "id": "R5g5B1Nvvffh"
      },
      "outputs": [],
      "source": [
        "s = pd.Series([3, -5, 7, 4], index=['a', 'b', 'c', 'd'])\n",
        "print(s)\n",
        "print('acceso a elemento: ', s['a'])"
      ]
    },
    {
      "cell_type": "markdown",
      "source": [
        "### DataFrame object\n",
        "\n",
        "The DataFrame Object is the main object in the library. It represents a heterogenous bidimensional array with a header (very similar to the DataFrames in the *R* programming language). In the following you have and example:\n"
      ],
      "metadata": {
        "id": "hs-XxhHjw_as"
      }
    },
    {
      "cell_type": "code",
      "source": [
        "data = { 'Nombre':['Carlos', 'Julia','Fabiola', 'Ernesto'],\n",
        "           'edad':[28,25,56,21],\n",
        "        'calificación':[100,89,48,75]}\n",
        "\n",
        "# df is a common name for DateFrames\n",
        "df = pd.DataFrame(data)\n",
        "print(df)"
      ],
      "metadata": {
        "id": "9UR65QZoxBEX"
      },
      "execution_count": null,
      "outputs": []
    },
    {
      "cell_type": "markdown",
      "source": [
        "We can access each data on the DataFrame as a matrix or using associative indices."
      ],
      "metadata": {
        "id": "xbKNUv7YxEoy"
      }
    },
    {
      "cell_type": "code",
      "source": [
        "print(df.iat[0,0])\n",
        "print(df.iat[1,2])\n",
        "print(df.at[2,'Nombre'])"
      ],
      "metadata": {
        "id": "6I4WIFiFxGbs"
      },
      "execution_count": null,
      "outputs": []
    },
    {
      "cell_type": "markdown",
      "source": [
        "DataFrames and Series a mutables data structures"
      ],
      "metadata": {
        "id": "AlfQB7-zxIxJ"
      }
    },
    {
      "cell_type": "code",
      "source": [
        "s['b'] = 5\n",
        "print('s = \\n', s)\n",
        "df.at[0,'Nombre'] = 'Charlie'\n",
        "print('df = \\n', df)"
      ],
      "metadata": {
        "id": "rW61qKfCxJhh"
      },
      "execution_count": null,
      "outputs": []
    },
    {
      "cell_type": "markdown",
      "source": [
        "We can also delete rows from the Series and DataFrames."
      ],
      "metadata": {
        "id": "d1yHcsfgxMub"
      }
    },
    {
      "cell_type": "code",
      "source": [
        "s.drop(['a'])\n",
        "print(s)\n",
        "df.drop('calificación', axis=1)\n",
        "print(df)\n",
        "df = df[df.Nombre != 'Charlie']\n",
        "print(df)"
      ],
      "metadata": {
        "id": "udceOqbBxNfX"
      },
      "execution_count": null,
      "outputs": []
    },
    {
      "cell_type": "markdown",
      "source": [
        "## Data exploration\n",
        "\n",
        "It is very boring working with such a small DataFrame. Let's upload a DataSet form a CSV file.\n"
      ],
      "metadata": {
        "id": "kyVm-gUKxQgh"
      }
    },
    {
      "cell_type": "code",
      "source": [
        "!wget 'https://raw.githubusercontent.com/Dr-Carlos-Villasenor/TRSeminar/main/Datasets/countries.csv'\n",
        "df = pd.read_csv('countries.csv')"
      ],
      "metadata": {
        "id": "yRULXvg5xSkg"
      },
      "execution_count": null,
      "outputs": []
    },
    {
      "cell_type": "markdown",
      "source": [
        "For a new dataset, it is always a good idea to explore the data before training any ML model."
      ],
      "metadata": {
        "id": "ScB6IltWxozU"
      }
    },
    {
      "cell_type": "code",
      "source": [
        "# We print the first 5 records\n",
        "df.head()"
      ],
      "metadata": {
        "id": "j-pajMSBxpe6"
      },
      "execution_count": null,
      "outputs": []
    },
    {
      "cell_type": "code",
      "source": [
        "# We print the last 5 records\n",
        "df.tail()"
      ],
      "metadata": {
        "id": "zjpeHaNrxsSj"
      },
      "execution_count": null,
      "outputs": []
    },
    {
      "cell_type": "code",
      "source": [
        "# Shape of the DataFrame\n",
        "print(df.shape)"
      ],
      "metadata": {
        "id": "zuBE1ufIxt9o"
      },
      "execution_count": null,
      "outputs": []
    },
    {
      "cell_type": "code",
      "source": [
        "# Basic information of the DataFrame\n",
        "df.info()"
      ],
      "metadata": {
        "id": "oOHRgaoYxwQo"
      },
      "execution_count": null,
      "outputs": []
    },
    {
      "cell_type": "code",
      "source": [
        "# Columns names\n",
        "df.columns"
      ],
      "metadata": {
        "id": "Cjqs8p0PxyEj"
      },
      "execution_count": null,
      "outputs": []
    },
    {
      "cell_type": "code",
      "source": [
        "# Some stats of the numerical features\n",
        "df.describe()"
      ],
      "metadata": {
        "id": "uCpV7q95xz0i"
      },
      "execution_count": null,
      "outputs": []
    },
    {
      "cell_type": "code",
      "source": [
        "# extract a numpy matrix from the DataFrame\n",
        "df.values"
      ],
      "metadata": {
        "id": "2vrH03Pkx135"
      },
      "execution_count": null,
      "outputs": []
    },
    {
      "cell_type": "code",
      "source": [
        "# mean and max of all numerical or comparative features\n",
        "print(df.max())\n",
        "print(df.min())"
      ],
      "metadata": {
        "id": "UAGW98L5x353"
      },
      "execution_count": null,
      "outputs": []
    },
    {
      "cell_type": "code",
      "source": [
        "# rename a column\n",
        "df = df.rename(columns={'gdpPercap':'gdp'})\n",
        "\n",
        "# a different way to do it\n",
        "#df.rename(columns={'gdpPercap':'gdp'}, inplace=True)\n",
        "df.head()"
      ],
      "metadata": {
        "id": "ISizyMGkyCgH"
      },
      "execution_count": null,
      "outputs": []
    },
    {
      "cell_type": "markdown",
      "source": [
        "## Selection, replace, filter, sorting"
      ],
      "metadata": {
        "id": "Cp3JULmTyFyF"
      }
    },
    {
      "cell_type": "code",
      "source": [
        "# return a column like a series\n",
        "s1 = df['country']\n",
        "s2 = df.country\n",
        "print(s1)\n",
        "print(s2)"
      ],
      "metadata": {
        "id": "9qAOpUkqyGnm"
      },
      "execution_count": null,
      "outputs": []
    },
    {
      "cell_type": "code",
      "source": [
        "# Return a colum like a DataFrame\n",
        "df2 = df[['country']]\n",
        "df2"
      ],
      "metadata": {
        "id": "VFBbB8PZyN2U"
      },
      "execution_count": null,
      "outputs": []
    },
    {
      "cell_type": "code",
      "source": [
        "# replace all the elements in a DF\n",
        "df2 = df.replace(1952,'one')\n",
        "df2.head()"
      ],
      "metadata": {
        "id": "OxcDyDrDyRqj"
      },
      "execution_count": null,
      "outputs": []
    },
    {
      "cell_type": "code",
      "source": [
        "# filtering by column\n",
        "df[df.country == 'Mexico']"
      ],
      "metadata": {
        "id": "4rOTL5VXyTiG"
      },
      "execution_count": null,
      "outputs": []
    },
    {
      "cell_type": "code",
      "source": [
        "# Filtering multiple columns\n",
        "df[(df.country == 'Mexico')&(df.year >= 1977)&(df.lifeExp < 70)]"
      ],
      "metadata": {
        "id": "0WiI8b3kyV6C"
      },
      "execution_count": null,
      "outputs": []
    },
    {
      "cell_type": "markdown",
      "source": [
        "Other way to filter data is the following (this can have some issues but is very popular)"
      ],
      "metadata": {
        "id": "nDsRQMS7yd_E"
      }
    },
    {
      "cell_type": "code",
      "source": [
        "#Filtrado con reindexado automático\n",
        "df_mex = df[df.country == 'Mexico'][df.year >= 1977][df.lifeExp < 70]\n",
        "df_mex"
      ],
      "metadata": {
        "id": "_DH46U78yXrc"
      },
      "execution_count": null,
      "outputs": []
    },
    {
      "cell_type": "code",
      "source": [
        "# Reindexing data\n",
        "df_mex = df_mex.reset_index()\n",
        "df_mex = df_mex.drop('index', axis=1)\n",
        "print(df_mex)"
      ],
      "metadata": {
        "id": "-9D2KJ6fykXF"
      },
      "execution_count": null,
      "outputs": []
    },
    {
      "cell_type": "code",
      "source": [
        "# Ordenar datos por una columna\n",
        "df_mex.sort_values('gdp')"
      ],
      "metadata": {
        "id": "Jit7zC1dymou"
      },
      "execution_count": null,
      "outputs": []
    },
    {
      "cell_type": "markdown",
      "source": [
        "## Drawing in Pandas"
      ],
      "metadata": {
        "id": "UMsV0jchy3-X"
      }
    },
    {
      "cell_type": "code",
      "source": [
        "# Histogram of all the numerical features\n",
        "df.hist()"
      ],
      "metadata": {
        "id": "iv-3uCkHy6A5"
      },
      "execution_count": null,
      "outputs": []
    },
    {
      "cell_type": "code",
      "source": [
        "# Draw only Mexico Data\n",
        "df[df.country == 'Mexico'].plot(x='year',y='gdp')"
      ],
      "metadata": {
        "id": "64EynUIYzBHc"
      },
      "execution_count": null,
      "outputs": []
    },
    {
      "cell_type": "markdown",
      "source": [
        "In data exploration is highly recommended to draw the scatter graphics, Pandas have a function for this.\n"
      ],
      "metadata": {
        "id": "c2BtXpyXzIwH"
      }
    },
    {
      "cell_type": "code",
      "source": [
        "# plot scatter matrix\n",
        "pd.plotting.scatter_matrix(df)"
      ],
      "metadata": {
        "id": "Y_tJ64PDzJm-"
      },
      "execution_count": null,
      "outputs": []
    },
    {
      "cell_type": "code",
      "source": [
        "# Draw only mexico scatter matrix\n",
        "pd.plotting.scatter_matrix(df[df.country == 'Mexico'])"
      ],
      "metadata": {
        "id": "1msGV5TQzP6D"
      },
      "execution_count": null,
      "outputs": []
    },
    {
      "cell_type": "markdown",
      "source": [
        "## Write a code to answer the following quaestions"
      ],
      "metadata": {
        "id": "hiT3TnO5zVhS"
      }
    },
    {
      "cell_type": "code",
      "source": [
        "print('How many and which countries have a life expectancy greater than or equal to 80 in 2002?')\n",
        "paises =\n",
        "print('Number of countries: ', len(paises))\n",
        "print('Countries: ', paises)"
      ],
      "metadata": {
        "id": "_nnSLf4gzTaG"
      },
      "execution_count": null,
      "outputs": []
    },
    {
      "cell_type": "code",
      "source": [
        "print('Country with the highest Gross Domestic Product, in any year?')\n",
        "country =\n",
        "print('The country with the highest GDP: ', country)"
      ],
      "metadata": {
        "id": "Mc0PZ5PwzazP"
      },
      "execution_count": null,
      "outputs": []
    },
    {
      "cell_type": "code",
      "source": [
        "print('In what year did Mexico exceed 70 million inhabitants?')\n",
        "year =\n",
        "print('In the year of: ',year)"
      ],
      "metadata": {
        "id": "eEKxU81Jzded"
      },
      "execution_count": null,
      "outputs": []
    }
  ]
}