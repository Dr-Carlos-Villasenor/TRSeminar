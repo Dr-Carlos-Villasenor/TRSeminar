{
  "nbformat": 4,
  "nbformat_minor": 0,
  "metadata": {
    "colab": {
      "provenance": [],
      "authorship_tag": "ABX9TyPc2lqSdOzn9dWR09TGnFUm",
      "include_colab_link": true
    },
    "kernelspec": {
      "name": "python3",
      "display_name": "Python 3"
    },
    "language_info": {
      "name": "python"
    }
  },
  "cells": [
    {
      "cell_type": "markdown",
      "metadata": {
        "id": "view-in-github",
        "colab_type": "text"
      },
      "source": [
        "<a href=\"https://colab.research.google.com/github/Dr-Carlos-Villasenor/TRSeminar/blob/main/TRS09_Practice_Classification.ipynb\" target=\"_parent\"><img src=\"https://colab.research.google.com/assets/colab-badge.svg\" alt=\"Open In Colab\"/></a>"
      ]
    },
    {
      "cell_type": "markdown",
      "source": [
        "# Machine Learning Seminar\n",
        "## Dr. Carlos Vilaseñor\n",
        "## Practice classification"
      ],
      "metadata": {
        "id": "zhAKXK-_wjWP"
      }
    },
    {
      "cell_type": "markdown",
      "source": [
        "Import basic modules"
      ],
      "metadata": {
        "id": "Dm6UxpG85QWX"
      }
    },
    {
      "cell_type": "code",
      "source": [
        "import pandas as pd\n",
        "import numpy as np"
      ],
      "metadata": {
        "id": "2luhCRpW5SWJ"
      },
      "execution_count": null,
      "outputs": []
    },
    {
      "cell_type": "markdown",
      "source": [
        "Run just one of the following datasets"
      ],
      "metadata": {
        "id": "r_0NVZgX5kZX"
      }
    },
    {
      "cell_type": "code",
      "source": [
        "!wget 'https://raw.githubusercontent.com/Dr-Carlos-Villasenor/TRSeminar/main/Datasets/cancer.csv'\n",
        "df = pd.read_csv('cancer.csv')"
      ],
      "metadata": {
        "id": "yRULXvg5xSkg"
      },
      "execution_count": null,
      "outputs": []
    },
    {
      "cell_type": "code",
      "source": [
        "!wget 'https://raw.githubusercontent.com/Dr-Carlos-Villasenor/TRSeminar/main/Datasets/Stars.csv'\n",
        "df = pd.read_csv('Stars.csv')"
      ],
      "metadata": {
        "id": "2koV_GRs5jS_"
      },
      "execution_count": null,
      "outputs": []
    },
    {
      "cell_type": "code",
      "source": [
        "!wget 'https://raw.githubusercontent.com/Dr-Carlos-Villasenor/TRSeminar/main/Datasets/insurance.csv'\n",
        "df = pd.read_csv('insurance.csv')"
      ],
      "metadata": {
        "id": "rd8nsFAB5jKf"
      },
      "execution_count": null,
      "outputs": []
    },
    {
      "cell_type": "markdown",
      "source": [
        "Explore and prepare data"
      ],
      "metadata": {
        "id": "6rPVNRi_5z5h"
      }
    },
    {
      "cell_type": "code",
      "source": [],
      "metadata": {
        "id": "aVQnDw9m58rA"
      },
      "execution_count": null,
      "outputs": []
    },
    {
      "cell_type": "markdown",
      "source": [
        "Create and train a model"
      ],
      "metadata": {
        "id": "qSJlmWrn59mJ"
      }
    },
    {
      "cell_type": "code",
      "source": [],
      "metadata": {
        "id": "OXoSh6CB6QKd"
      },
      "execution_count": null,
      "outputs": []
    }
  ]
}