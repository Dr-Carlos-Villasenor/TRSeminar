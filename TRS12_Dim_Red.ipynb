{
  "nbformat": 4,
  "nbformat_minor": 0,
  "metadata": {
    "colab": {
      "provenance": [],
      "authorship_tag": "ABX9TyOdHRVnyRVOUaF6wcI2CdA3",
      "include_colab_link": true
    },
    "kernelspec": {
      "name": "python3",
      "display_name": "Python 3"
    }
  },
  "cells": [
    {
      "cell_type": "markdown",
      "metadata": {
        "id": "view-in-github",
        "colab_type": "text"
      },
      "source": [
        "<a href=\"https://colab.research.google.com/github/Dr-Carlos-Villasenor/TRSeminar/blob/main/TRS12_Dim_Red.ipynb\" target=\"_parent\"><img src=\"https://colab.research.google.com/assets/colab-badge.svg\" alt=\"Open In Colab\"/></a>"
      ]
    },
    {
      "cell_type": "markdown",
      "source": [
        "# Machine Learning Seminar\n",
        "## Dr. Carlos Vilaseñor\n",
        "## Dimensionality Reduction\n",
        "\n"
      ],
      "metadata": {
        "id": "tb45P6GQ87GH"
      }
    },
    {
      "cell_type": "markdown",
      "source": [
        "# Prapare data"
      ],
      "metadata": {
        "id": "tTZryWt8GHYI"
      }
    },
    {
      "cell_type": "markdown",
      "metadata": {
        "id": "Hyg7jM6MDzF2"
      },
      "source": [
        "Import modules"
      ]
    },
    {
      "cell_type": "code",
      "source": [
        "import pandas as pd\n",
        "import numpy as np\n",
        "import matplotlib.pyplot as plt"
      ],
      "metadata": {
        "id": "q2b6gnNUFnEL"
      },
      "execution_count": 1,
      "outputs": []
    },
    {
      "cell_type": "markdown",
      "metadata": {
        "id": "LflocjNTD5qs"
      },
      "source": [
        "Fetch data in OpenML\n"
      ]
    },
    {
      "cell_type": "code",
      "metadata": {
        "id": "GmnzVFKHEbET"
      },
      "source": [
        "from sklearn.datasets import fetch_openml\n",
        "x, y = fetch_openml('mnist_784', version=1, return_X_y=True)"
      ],
      "execution_count": null,
      "outputs": []
    },
    {
      "cell_type": "markdown",
      "source": [
        "Take only n_samples (just for speed)"
      ],
      "metadata": {
        "id": "_f87eUePGB3h"
      }
    },
    {
      "cell_type": "code",
      "metadata": {
        "id": "qj9w8ezDJDuc"
      },
      "source": [
        "n_samples = 5000\n",
        "x=np.array(x.iloc[:n_samples,:])\n",
        "y=np.array(y[:n_samples].ravel(),dtype=int)\n",
        "print(x.shape, y.shape)"
      ],
      "execution_count": null,
      "outputs": []
    },
    {
      "cell_type": "markdown",
      "source": [
        "Draw an example (run this many times)"
      ],
      "metadata": {
        "id": "-MjAsQX__k6s"
      }
    },
    {
      "cell_type": "code",
      "metadata": {
        "id": "EDy2YvmWF6X8"
      },
      "source": [
        "sample = np.random.randint(x.shape[0])\n",
        "plt.imshow(x[sample].reshape((28,28)), cmap=plt.cm.gray)\n",
        "plt.title('Target: %s'%y[sample])\n",
        "plt.show()"
      ],
      "execution_count": null,
      "outputs": []
    },
    {
      "cell_type": "markdown",
      "metadata": {
        "id": "WqANA5EgF9Ja"
      },
      "source": [
        "## Digit classification with PCA and SVM"
      ]
    },
    {
      "cell_type": "code",
      "metadata": {
        "id": "ONWFyipnGHWb"
      },
      "source": [
        "from sklearn.model_selection import train_test_split\n",
        "from sklearn.pipeline import Pipeline\n",
        "from sklearn.preprocessing import StandardScaler\n",
        "from sklearn.decomposition import PCA\n",
        "from sklearn import svm\n",
        "from sklearn.metrics import classification_report, confusion_matrix, ConfusionMatrixDisplay"
      ],
      "execution_count": 14,
      "outputs": []
    },
    {
      "cell_type": "code",
      "metadata": {
        "id": "IDhpmF_fGQ5H"
      },
      "source": [
        "xtrain, xtest, ytrain, ytest = train_test_split(x, y, test_size=0.1)"
      ],
      "execution_count": 15,
      "outputs": []
    },
    {
      "cell_type": "code",
      "metadata": {
        "id": "OLOfP4q1GT8I"
      },
      "source": [
        " # Create model\n",
        "model = Pipeline([('scaler', StandardScaler()),\n",
        "                  ('PCA', PCA(n_components=50)),\n",
        "                  ('SVM', svm.SVC(gamma=0.0001))])"
      ],
      "execution_count": 16,
      "outputs": []
    },
    {
      "cell_type": "code",
      "metadata": {
        "id": "p_wUxWDqGb3H"
      },
      "source": [
        " # Fit model\n",
        "model.fit(xtrain, ytrain)"
      ],
      "execution_count": null,
      "outputs": []
    },
    {
      "cell_type": "code",
      "metadata": {
        "id": "w-D1XNaDGe0D"
      },
      "source": [
        "# Calculate scores\n",
        "print('Train: ', model.score(xtrain, ytrain))\n",
        "print('Test: ', model.score(xtest, ytest))"
      ],
      "execution_count": null,
      "outputs": []
    },
    {
      "cell_type": "code",
      "metadata": {
        "id": "mVRnjOxeGopP"
      },
      "source": [
        "# Make prediction over the test set\n",
        "ypred = model.predict(xtest)"
      ],
      "execution_count": 19,
      "outputs": []
    },
    {
      "cell_type": "code",
      "metadata": {
        "id": "WzcwnQPhGpbU"
      },
      "source": [
        "print('Classification report: \\n', classification_report(ytest, ypred))"
      ],
      "execution_count": null,
      "outputs": []
    },
    {
      "cell_type": "code",
      "metadata": {
        "id": "VN4-alT4GsPF"
      },
      "source": [
        "cm = confusion_matrix(ytest, ypred, labels=model.classes_)\n",
        "disp = ConfusionMatrixDisplay(confusion_matrix=cm,\n",
        "                            display_labels=model.classes_)\n",
        "disp.plot()"
      ],
      "execution_count": null,
      "outputs": []
    },
    {
      "cell_type": "code",
      "metadata": {
        "id": "R6c9HKciG4wY"
      },
      "source": [
        "# Dibujar una predicción aleatoria\n",
        "sample = np.random.randint(xtest.shape[0])\n",
        "plt.imshow(xtest[sample].reshape((28,28)), cmap=plt.cm.gray)\n",
        "plt.title('Prediction: %i' % ypred[sample])\n",
        "plt.show()"
      ],
      "execution_count": null,
      "outputs": []
    },
    {
      "cell_type": "markdown",
      "metadata": {
        "id": "1mlNjUyNG7eB"
      },
      "source": [
        "## Save the model"
      ]
    },
    {
      "cell_type": "code",
      "metadata": {
        "id": "zRIlYMKdG9Je"
      },
      "source": [
        "# Guardar modelo\n",
        "from joblib import dump\n",
        "dump(model, 'mnist_classifier.joblib')"
      ],
      "execution_count": null,
      "outputs": []
    },
    {
      "cell_type": "code",
      "metadata": {
        "id": "cOwZHI4_ReWX"
      },
      "source": [
        "from joblib import load\n",
        "model2 = load('mnist_classifier.joblib')"
      ],
      "execution_count": 27,
      "outputs": []
    },
    {
      "cell_type": "code",
      "metadata": {
        "id": "jvLqSY-JR7Iu"
      },
      "source": [
        "# Dibujar una predicción aleatoria\n",
        "sample = np.random.randint(xtest.shape[0])\n",
        "plt.imshow(xtest[sample].reshape((28,28)), cmap=plt.cm.gray)\n",
        "ypred = model2.predict(xtest[sample].reshape(1,-1))\n",
        "plt.title('Prediction: %i' % ypred)\n",
        "plt.show()"
      ],
      "execution_count": null,
      "outputs": []
    },
    {
      "cell_type": "markdown",
      "metadata": {
        "id": "nvbJyikjDrq6"
      },
      "source": [
        "## DR with t-SNE for data visualization"
      ]
    },
    {
      "cell_type": "code",
      "metadata": {
        "id": "AaN2sxlwDYzk"
      },
      "source": [
        "from sklearn.manifold import TSNE"
      ],
      "execution_count": 33,
      "outputs": []
    },
    {
      "cell_type": "code",
      "metadata": {
        "id": "WBdJNhBCFpD_"
      },
      "source": [
        " model = TSNE(n_components=2, n_iter=2000, n_jobs=-1)"
      ],
      "execution_count": 34,
      "outputs": []
    },
    {
      "cell_type": "code",
      "metadata": {
        "id": "SyUftezJFumA"
      },
      "source": [
        "x_2d = model.fit_transform(x)\n",
        "x_2d.shape"
      ],
      "execution_count": null,
      "outputs": []
    },
    {
      "cell_type": "code",
      "metadata": {
        "id": "MUPG_760Fw3F"
      },
      "source": [
        "plt.scatter(x_2d[:,0],x_2d[:,1], c=y, cmap=plt.cm.tab10)"
      ],
      "execution_count": null,
      "outputs": []
    }
  ]
}