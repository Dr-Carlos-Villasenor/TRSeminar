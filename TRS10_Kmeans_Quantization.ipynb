{
  "nbformat": 4,
  "nbformat_minor": 0,
  "metadata": {
    "colab": {
      "provenance": [],
      "authorship_tag": "ABX9TyMPKLiJOKmAxl3q9iWYPDfK",
      "include_colab_link": true
    },
    "kernelspec": {
      "name": "python3",
      "display_name": "Python 3"
    },
    "language_info": {
      "name": "python"
    }
  },
  "cells": [
    {
      "cell_type": "markdown",
      "metadata": {
        "id": "view-in-github",
        "colab_type": "text"
      },
      "source": [
        "<a href=\"https://colab.research.google.com/github/Dr-Carlos-Villasenor/TRSeminar/blob/main/TRS10_Kmeans_Quantization.ipynb\" target=\"_parent\"><img src=\"https://colab.research.google.com/assets/colab-badge.svg\" alt=\"Open In Colab\"/></a>"
      ]
    },
    {
      "cell_type": "markdown",
      "source": [
        "# Machine Learning Seminar\n",
        "## Dr. Carlos Vilaseñor\n",
        "## Kmeans image quatization\n",
        "\n"
      ],
      "metadata": {
        "id": "mAvFm5jSTmBJ"
      }
    },
    {
      "cell_type": "markdown",
      "source": [
        "Import modules"
      ],
      "metadata": {
        "id": "qMF9MDnkYbT4"
      }
    },
    {
      "cell_type": "code",
      "source": [
        "import numpy as np\n",
        "import matplotlib.pyplot as plt\n",
        "import matplotlib.image as mpimg\n",
        "from sklearn.cluster import KMeans\n",
        "from sklearn.utils import shuffle\n",
        "from google.colab import files"
      ],
      "metadata": {
        "id": "ORcykQntYa5F"
      },
      "execution_count": 1,
      "outputs": []
    },
    {
      "cell_type": "markdown",
      "source": [
        "Load data"
      ],
      "metadata": {
        "id": "zLW9AHg4a6aZ"
      }
    },
    {
      "cell_type": "code",
      "source": [
        "!wget 'https://raw.githubusercontent.com/Dr-Carlos-Villasenor/TRSeminar/main/Datasets/paisaje.jpg'"
      ],
      "metadata": {
        "id": "TGrwTT6PbG5g"
      },
      "execution_count": null,
      "outputs": []
    },
    {
      "cell_type": "code",
      "source": [
        "img = mpimg.imread('paisaje.jpg')\n",
        "img = np.array(img, dtype=np.float64) / 255"
      ],
      "metadata": {
        "id": "6WJHRWnKbBGf"
      },
      "execution_count": 3,
      "outputs": []
    },
    {
      "cell_type": "code",
      "source": [
        "w, h, d = img.shape\n",
        "n_classes = 32"
      ],
      "metadata": {
        "id": "EogKjhapoZBF"
      },
      "execution_count": 4,
      "outputs": []
    },
    {
      "cell_type": "code",
      "source": [
        "img_array = np.reshape(img, (w * h, d))"
      ],
      "metadata": {
        "id": "4hXe0wUhoa5Q"
      },
      "execution_count": 5,
      "outputs": []
    },
    {
      "cell_type": "code",
      "source": [
        "img_array.shape"
      ],
      "metadata": {
        "id": "Rm6GPxVLu-CD",
        "colab": {
          "base_uri": "https://localhost:8080/"
        },
        "outputId": "91d4dd45-77bb-421e-c78b-aefeba6a2aee"
      },
      "execution_count": 6,
      "outputs": [
        {
          "output_type": "execute_result",
          "data": {
            "text/plain": [
              "(810000, 3)"
            ]
          },
          "metadata": {},
          "execution_count": 6
        }
      ]
    },
    {
      "cell_type": "code",
      "source": [
        "X = shuffle(img_array, random_state=0)[:1000]\n",
        "kmeans = KMeans(n_clusters = n_classes, random_state = 0)\n",
        "kmeans.fit(X)\n",
        "labels = kmeans.predict(img_array)"
      ],
      "metadata": {
        "id": "h5eB2zQyocOo",
        "colab": {
          "base_uri": "https://localhost:8080/"
        },
        "outputId": "1b89029a-e75f-459f-bf1a-15af0e1675b6"
      },
      "execution_count": 7,
      "outputs": [
        {
          "output_type": "stream",
          "name": "stderr",
          "text": [
            "/usr/local/lib/python3.10/dist-packages/sklearn/cluster/_kmeans.py:870: FutureWarning: The default value of `n_init` will change from 10 to 'auto' in 1.4. Set the value of `n_init` explicitly to suppress the warning\n",
            "  warnings.warn(\n"
          ]
        }
      ]
    },
    {
      "cell_type": "code",
      "source": [
        "C = kmeans.cluster_centers_\n",
        "print('Centroides: \\n', C)"
      ],
      "metadata": {
        "id": "-Uw3-X4BofKR"
      },
      "execution_count": null,
      "outputs": []
    },
    {
      "cell_type": "code",
      "source": [
        "fig = plt.figure()\n",
        "ax = fig.add_subplot(111, projection='3d')\n",
        "ax.scatter(X[:,0], X[:,1],  X[:,2],c=X)\n",
        "fig = plt.figure()\n",
        "ax = fig.add_subplot(111, projection='3d')\n",
        "ax.scatter(X[:,0], X[:,1],X[:,2],c=kmeans.predict(X))\n",
        "ax.plot3D(C[:,0], C[:,1],C[:,2], '+r', linewidth=20)"
      ],
      "metadata": {
        "id": "9QdnfcFZpUH6"
      },
      "execution_count": null,
      "outputs": []
    },
    {
      "cell_type": "code",
      "source": [
        "img_labels = np.reshape(labels, (w,h))\n",
        "img_out = np.zeros((w, h, d))\n",
        "label_idx = 0\n",
        "for i in range(w):\n",
        "  for j in range(h):\n",
        "    img_out[i][j][0] = kmeans.cluster_centers_[img_labels[i][j]][0]\n",
        "    img_out[i][j][1] = kmeans.cluster_centers_[img_labels[i][j]][1]\n",
        "    img_out[i][j][2] = kmeans.cluster_centers_[img_labels[i][j]][2]"
      ],
      "metadata": {
        "id": "R52C3SCsod2w"
      },
      "execution_count": 10,
      "outputs": []
    },
    {
      "cell_type": "code",
      "source": [
        "# Display all results, alongside original image\n",
        "plt.title('Original image')\n",
        "plt.imshow(img)"
      ],
      "metadata": {
        "id": "hqCxj87sog5u"
      },
      "execution_count": null,
      "outputs": []
    },
    {
      "cell_type": "code",
      "source": [
        "plt.title('Quantized image with K-Means')\n",
        "plt.imshow(img_out)"
      ],
      "metadata": {
        "id": "OWSn6Ru8ovjZ"
      },
      "execution_count": null,
      "outputs": []
    },
    {
      "cell_type": "markdown",
      "source": [
        "# Silhoutte score"
      ],
      "metadata": {
        "id": "hKeoUPJNwx3J"
      }
    },
    {
      "cell_type": "code",
      "source": [
        "from sklearn.metrics import silhouette_samples, silhouette_score\n",
        "\n",
        "def kmeans_silhouette(data, n_clusters):\n",
        "  plt.figure\n",
        "  plt.xlim([-0.1, 1])\n",
        "  clusterer = KMeans(n_clusters=n_clusters)\n",
        "  cluster_labels = clusterer.fit_predict(data)\n",
        "\n",
        "  silhouette_avg = silhouette_score(data, cluster_labels)\n",
        "  print(\"For n_clusters =\", n_clusters,\n",
        "          \"The average silhouette_score is :\", silhouette_avg)\n",
        "\n",
        "  sample_silhouette_values = silhouette_samples(data, cluster_labels)\n",
        "\n",
        "  y_lower = 10\n",
        "  for i in range(n_clusters):\n",
        "    # Aggregate the silhouette scores for samples belonging to\n",
        "    # cluster i, and sort them\n",
        "    ith_cluster_silhouette_values = \\\n",
        "    sample_silhouette_values[cluster_labels == i]\n",
        "\n",
        "    ith_cluster_silhouette_values.sort()\n",
        "\n",
        "    size_cluster_i = ith_cluster_silhouette_values.shape[0]\n",
        "    y_upper = y_lower + size_cluster_i\n",
        "\n",
        "    color = plt.cm.nipy_spectral(float(i) / n_clusters)\n",
        "    plt.fill_betweenx(np.arange(y_lower, y_upper),\n",
        "                      0, ith_cluster_silhouette_values,\n",
        "                      facecolor=color, edgecolor=color, alpha=0.7)\n",
        "\n",
        "    # Label the silhouette plots with their cluster numbers at the middle\n",
        "    plt.text(-0.05, y_lower + 0.5 * size_cluster_i, str(i))\n",
        "\n",
        "    # Compute the new y_lower for next plot\n",
        "    y_lower = y_upper + 10  # 10 for the 0 samples\n",
        "\n",
        "    plt.title(\"The silhouette plot for the various clusters.\")\n",
        "    plt.xlabel(\"The silhouette coefficient values\")\n",
        "    plt.ylabel(\"Cluster label\")\n",
        "\n",
        "    # The vertical line for average silhouette score of all the values\n",
        "    plt.axvline(x=silhouette_avg, color=\"red\", linestyle=\"--\")\n",
        "\n",
        "    plt.yticks([])  # Clear the yaxis labels / ticks\n",
        "    plt.xticks([-0.1, 0, 0.2, 0.4, 0.6, 0.8, 1])\n",
        "  plt.show()"
      ],
      "metadata": {
        "id": "6bzfFArIxDsg"
      },
      "execution_count": 13,
      "outputs": []
    },
    {
      "cell_type": "code",
      "source": [
        "kmeans_silhouette(X, 2)"
      ],
      "metadata": {
        "id": "WXRqNRfvxFX8"
      },
      "execution_count": null,
      "outputs": []
    }
  ]
}