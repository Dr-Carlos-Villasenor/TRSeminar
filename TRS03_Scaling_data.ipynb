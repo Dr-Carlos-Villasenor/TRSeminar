{
  "nbformat": 4,
  "nbformat_minor": 0,
  "metadata": {
    "colab": {
      "provenance": [],
      "authorship_tag": "ABX9TyMqdAOm0SR9L3bQ9oVnDDdY",
      "include_colab_link": true
    },
    "kernelspec": {
      "name": "python3",
      "display_name": "Python 3"
    },
    "language_info": {
      "name": "python"
    }
  },
  "cells": [
    {
      "cell_type": "markdown",
      "metadata": {
        "id": "view-in-github",
        "colab_type": "text"
      },
      "source": [
        "<a href=\"https://colab.research.google.com/github/Dr-Carlos-Villasenor/TRSeminar/blob/main/TRS03_Scaling_data.ipynb\" target=\"_parent\"><img src=\"https://colab.research.google.com/assets/colab-badge.svg\" alt=\"Open In Colab\"/></a>"
      ]
    },
    {
      "cell_type": "markdown",
      "source": [
        "# Machine Learning Seminar\n",
        "## Dr. Carlos Vilaseñor\n",
        "## Scaling structure data"
      ],
      "metadata": {
        "id": "uhSFgLciP6CB"
      }
    },
    {
      "cell_type": "markdown",
      "source": [
        "# Start"
      ],
      "metadata": {
        "id": "IDhffrBNe8De"
      }
    },
    {
      "cell_type": "markdown",
      "source": [
        "1. Import modules"
      ],
      "metadata": {
        "id": "kMdfWChuYY-h"
      }
    },
    {
      "cell_type": "code",
      "execution_count": 1,
      "metadata": {
        "id": "9YIdZ-IrPXT7"
      },
      "outputs": [],
      "source": [
        "import numpy as np\n",
        "import pandas as pd\n",
        "import seaborn as sns\n",
        "import matplotlib.pyplot as plt\n",
        "from sklearn.datasets import make_blobs"
      ]
    },
    {
      "cell_type": "markdown",
      "source": [
        "2. Load data"
      ],
      "metadata": {
        "id": "TlbpevSNYbzU"
      }
    },
    {
      "cell_type": "code",
      "source": [
        "# Crear datos sintéticos\n",
        "x, _ = make_blobs(n_samples=200, n_features=2)\n",
        "\n",
        "\n",
        "# Parametros de los gráficos\n",
        "sns.set_style(\"whitegrid\", {'axes.grid' : False})\n",
        "cmap = sns.color_palette(\"viridis\", as_cmap=True)\n",
        "\n",
        "\n",
        "# Dibujar puntos\n",
        "plt.scatter(x[:,0], x[:,1], c=x[:,1], cmap=cmap)\n",
        "plt.axis('equal')\n",
        "plt.grid()\n"
      ],
      "metadata": {
        "id": "Iz248gThaPu-"
      },
      "execution_count": null,
      "outputs": []
    },
    {
      "cell_type": "markdown",
      "source": [
        "# Scaling"
      ],
      "metadata": {
        "id": "mp8-eBxRe5Oo"
      }
    },
    {
      "cell_type": "markdown",
      "source": [
        "Standard Scaler"
      ],
      "metadata": {
        "id": "S7LDPHfWeyB0"
      }
    },
    {
      "cell_type": "code",
      "source": [
        "from sklearn.preprocessing import StandardScaler\n",
        "\n",
        "scaler = StandardScaler()\n",
        "scaler.fit(x)\n",
        "print('Scaler parameters: ', scaler.mean_, scaler.var_)\n",
        "new_x = scaler.transform(x)\n",
        "plt.scatter(new_x[:,0], new_x[:,1], c=x[:,1], cmap=cmap)\n",
        "plt.title('Standard scaler')\n",
        "plt.axis('equal')\n",
        "plt.grid()\n"
      ],
      "metadata": {
        "id": "HMHQQs_fcPab"
      },
      "execution_count": null,
      "outputs": []
    },
    {
      "cell_type": "code",
      "source": [
        "from sklearn.preprocessing import MinMaxScaler\n",
        "\n",
        "scaler = MinMaxScaler()\n",
        "scaler.fit(x)\n",
        "print('Scaler parameters: ', scaler.data_max_, scaler.data_min_)\n",
        "new_x = scaler.transform(x)\n",
        "plt.scatter(new_x[:,0], new_x[:,1], c=x[:,1], cmap=cmap)\n",
        "plt.title('MinMax scaler')\n",
        "plt.axis('equal')\n",
        "plt.grid()"
      ],
      "metadata": {
        "id": "hCdSdXnldGRO"
      },
      "execution_count": null,
      "outputs": []
    },
    {
      "cell_type": "code",
      "source": [
        "from sklearn.preprocessing import Normalizer\n",
        "\n",
        "scaler = Normalizer(norm='l2')\n",
        "scaler.fit(x)\n",
        "\n",
        "new_x = scaler.transform(x)\n",
        "plt.scatter(new_x[:,0], new_x[:,1], c=x[:,1], cmap=cmap)\n",
        "plt.title('Normalizer L2')\n",
        "plt.axis('equal')\n",
        "plt.grid()"
      ],
      "metadata": {
        "id": "ipv0lWIVdmeP"
      },
      "execution_count": null,
      "outputs": []
    },
    {
      "cell_type": "code",
      "source": [
        "from sklearn.preprocessing import Normalizer\n",
        "\n",
        "scaler = Normalizer(norm='l1')\n",
        "scaler.fit(x)\n",
        "\n",
        "new_x = scaler.transform(x)\n",
        "plt.scatter(new_x[:,0], new_x[:,1], c=x[:,1], cmap=cmap)\n",
        "plt.title('Normalizer L1')\n",
        "plt.axis('equal')\n",
        "plt.grid()"
      ],
      "metadata": {
        "id": "pBkzl_NNd_u3"
      },
      "execution_count": null,
      "outputs": []
    },
    {
      "cell_type": "code",
      "source": [
        "from sklearn.preprocessing import Normalizer\n",
        "\n",
        "scaler = Normalizer(norm='max')\n",
        "scaler.fit(x)\n",
        "\n",
        "new_x = scaler.transform(x)\n",
        "plt.scatter(new_x[:,0], new_x[:,1], c=x[:,1], cmap=cmap)\n",
        "plt.title('Normalizer max')\n",
        "plt.axis('equal')\n",
        "plt.grid()"
      ],
      "metadata": {
        "id": "RHUnEeTPeLG_"
      },
      "execution_count": null,
      "outputs": []
    }
  ]
}